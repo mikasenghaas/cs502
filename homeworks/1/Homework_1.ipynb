{
  "cells": [
    {
      "cell_type": "markdown",
      "metadata": {
        "id": "GGZawn6zjw8B"
      },
      "source": [
        "# Homework 1 - Name, SCIPER\n",
        "\n",
        "In this homework, we're going to build a neural network without using deep learning packages.\n",
        "\n",
        "Specifically, we're going to build a neural network that annotate cells to cell types in the Pancreas tissue. To do so, we'll need a few building blocks:\n",
        "- Fully-connected layer, $f(X)=X \\cdot W + \\vec{b}$\n",
        "- Nonlinearity layer (ReLU in this homework)\n",
        "- Loss function (Cross-entropy in this homework)\n",
        "- Backprop algorithm - a stochastic gradient descent with backpropageted gradients\n",
        "\n",
        "Reference: \n",
        "- https://github.com/yandexdataschool/Practical_DL/tree/fall23\n",
        "- https://github.com/theislab/scarches-reproducibility"
      ]
    },
    {
      "cell_type": "code",
      "execution_count": 1,
      "metadata": {
        "colab": {
          "base_uri": "https://localhost:8080/"
        },
        "collapsed": true,
        "id": "U_M_6S9Ujw8C",
        "outputId": "173ca758-099b-4fc0-9056-dd5717d38034"
      },
      "outputs": [],
      "source": [
        "import numpy as np\n",
        "np.random.seed(0)"
      ]
    },
    {
      "cell_type": "markdown",
      "metadata": {
        "id": "jF1dyLBTjw8D"
      },
      "source": [
        "## 0. Create the Parent Class 'Layer' (0 pt)\n",
        "\n",
        "As we learned in the lecture, we need layers that can do both forward pass and backward pass. Here we define the parent class of all layers."
      ]
    },
    {
      "cell_type": "code",
      "execution_count": 2,
      "metadata": {
        "collapsed": true,
        "id": "fQv1zgRUjw8D"
      },
      "outputs": [],
      "source": [
        "class Layer:\n",
        "\n",
        "    \"\"\"\n",
        "    Each layer performs two things:\n",
        "    1. Forward pass: Process input to get output: output = layer.forward(input)\n",
        "    2. Backward pass: Back-propagate gradients through itself: grad_input = layer.backward(input, grad_output)\n",
        "\n",
        "    The layers that contain learnable parameters also update their parameters during layer.backward.\n",
        "    \"\"\"\n",
        "\n",
        "    def __init__(self):\n",
        "        \"\"\"\n",
        "        Initialize layer parameters.\n",
        "        \"\"\"\n",
        "\n",
        "        # Here we use a dummy layer that does nothing.\n",
        "        pass\n",
        "\n",
        "    def forward(self, input):\n",
        "        \"\"\"\n",
        "        Takes input data of shape [batch, input_dims], returns output data [batch, output_dims]\n",
        "        \"\"\"\n",
        "\n",
        "        # Here we use a dummy layer that returns the input.\n",
        "        return input\n",
        "\n",
        "    def backward(self, input, grad_output):\n",
        "        \"\"\"\n",
        "        Performs a backpropagation step through the layer.\n",
        "\n",
        "        We need to apply the chain rule to compute the gradients of the input x:\n",
        "        d loss / d x  = (d loss / d layer) * (d layer / d x)\n",
        "\n",
        "        Grad_output provides us d loss / d layer, so we only need to multiply it by d layer / d x.\n",
        "\n",
        "        Note that if the layer has trainable parameters, we also need to update them using d loss / d layer.\n",
        "        \"\"\"\n",
        "\n",
        "        # The gradient of a dummy layer is grad_output\n",
        "        return grad_output"
      ]
    },
    {
      "cell_type": "markdown",
      "metadata": {
        "id": "U3Q_CChKjw8E"
      },
      "source": [
        "## 1. Build layers\n",
        "\n",
        "We will shortly introduce our dataset's structure in this section, and it should be enough to complete the functions in this section. However, if you find knowing the dataset structure is super helpful to implement the functions of this section, *you can jump to Section 2* and check the dataset structure before going through this section.\n",
        "\n",
        "### 1.1. Nonlinearity layer - ReLU (1 pt) \n",
        "\n",
        "We start from the simplest layer: nonlinearity layer. It simply applies a nonlinearity to each element of your network and it contains no trainable parameter.\n",
        "\n",
        "Here we implement ReLU. \n",
        "\n",
        "Check this link to review ReLU if needed: https://www.v7labs.com/blog/neural-networks-activation-functions"
      ]
    },
    {
      "cell_type": "code",
      "execution_count": 3,
      "metadata": {
        "collapsed": true,
        "id": "Sj5NNWB9jw8E"
      },
      "outputs": [],
      "source": [
        "class ReLU(Layer):\n",
        "    def __init__(self):\n",
        "        \"\"\"\n",
        "        ReLU layer applies elementwise rectified linear to the elements in the inputs.\n",
        "        There is nothing to initialize in this simple implementation.\n",
        "        \"\"\"\n",
        "\n",
        "        pass\n",
        "\n",
        "    def forward(self, input):\n",
        "        \"\"\"\n",
        "        Apply elementwise ReLU to the input\n",
        "        \"\"\"\n",
        "        output = np.maximum(0, input)\n",
        "        \n",
        "        return output\n",
        "\n",
        "    def backward(self, input, grad_output):\n",
        "        \"\"\"\n",
        "        Compute the gradient of loss. \n",
        "        \"\"\"\n",
        "        derivative = 1 * (input > 0) # 1 * (input > 0) is the derivative of ReLU following piece-wise differentiation\n",
        "        grad_input = derivative * grad_output   # apply chain rule to get the gradient of the output with respect to input\n",
        "\n",
        "        return grad_input"
      ]
    },
    {
      "cell_type": "markdown",
      "metadata": {
        "id": "aihMC0K8jw8E"
      },
      "source": [
        "### 1.2. Fully-connected Layer (2 pts)\n",
        "\n",
        "After implementing the simplest layer, we come to a more complicated one: a fully-connected layer. Unlike a nonlinearity layer, a fully-connected layer has trainable parameters.\n",
        "\n",
        "A fully-connected layer applies an affine transformation. It can be described as: \n",
        "$$f(X)= X \\cdot W + \\vec b ,$$\n",
        "\n",
        "where\n",
        "* X is the input of shape [batch_size, input_dims],\n",
        "* W is a weight matrix [input_dims, output_dims],\n",
        "* and b is a vector of outputs_dims biases.\n",
        "\n",
        "W and b are\n",
        "* initialized when the layer is created,\n",
        "* and updated each time backward is called."
      ]
    },
    {
      "cell_type": "code",
      "execution_count": 4,
      "metadata": {
        "collapsed": true,
        "id": "VOkSrmYzjw8E"
      },
      "outputs": [],
      "source": [
        "class Fully_connected(Layer):\n",
        "    def __init__(self, input_dims, output_dims, learning_rate=0.01):\n",
        "        \"\"\"\n",
        "        Fully_connected layer: f(x) = <x*W> + b\n",
        "        We initialize W, b, and learning rate to update W and b.\n",
        "        \"\"\"\n",
        "\n",
        "        # ToDo: Here we use normal initialization for W and zero initialization for b\n",
        "        # Hint: Scale the weights initialization. Think about whether to scale them to large or small.\n",
        "\n",
        "        # self.weights = np.random.randn(input_dims, output_dims)\n",
        "        k = 1 / input_dims\n",
        "        sqrt_k = np.sqrt(k)\n",
        "        self.weights = np.random.uniform(-sqrt_k, sqrt_k, size=(input_dims, output_dims))\n",
        "        self.biases = np.random.uniform(-sqrt_k, sqrt_k, size=(output_dims))\n",
        "\n",
        "        self.learning_rate = learning_rate\n",
        "\n",
        "    def forward(self,input):\n",
        "        \"\"\"\n",
        "        Perform f(x) = <x*W> + b .\n",
        "\n",
        "        input shape: [batch, input_dims]\n",
        "        output shape: [batch, output_dims]\n",
        "        \"\"\"\n",
        "\n",
        "        output = input @ self.weights + self.biases\n",
        "\n",
        "        return output\n",
        "\n",
        "    def backward(self,input,grad_output):\n",
        "\n",
        "        # ToDo: calculate the grad_input to back propagate\n",
        "\n",
        "        dx = grad_output @ self.weights.T\n",
        "        dw = input.T @ grad_output\n",
        "        db = grad_output.sum(0)\n",
        "\n",
        "        grad_input = dx\n",
        "\n",
        "        # Here we perform a stochastic gradient descent (SGD) step: x = x - learning_rate * gradient_of_x.\n",
        "        # ToDo: Update parameter W\n",
        "        self.weights -= self.learning_rate * dw\n",
        "\n",
        "        # ToDo: Update parameter b\n",
        "        \n",
        "        self.biases -= self.learning_rate * db\n",
        "\n",
        "        return grad_input"
      ]
    },
    {
      "cell_type": "markdown",
      "metadata": {
        "id": "pvXCRmwKjw8G"
      },
      "source": [
        "### 1.3. The loss function - softmax cross-entropy (2 pts)\n",
        "\n",
        "Our model outputs the logits. Since we want to predict probabilities, it would be logical for us to apply softmax nonlinearity to our output logits and compute loss with predicted probabilities.\n",
        "\n",
        "If you are not familiar with softmax or cross-entropy loss, you can check:\n",
        "- Softmax: https://en.wikipedia.org/wiki/Softmax_function\n",
        "- Cross-entropy loss: https://ml-cheatsheet.readthedocs.io/en/latest/loss_functions.html#cross-entropy\n",
        "\n",
        "\n",
        "(We encourage you to first write down the expression for cross-entropy as a function of softmax logits. You can then try to rewrite it into a more concise form.)"
      ]
    },
    {
      "cell_type": "code",
      "execution_count": 5,
      "metadata": {
        "collapsed": true,
        "id": "jPw8k28mjw8G"
      },
      "outputs": [],
      "source": [
        "def softmax(x):\n",
        "    \"\"\"\n",
        "    Compute softmax values for each sets of scores in x with shape [batch,n_classes].\n",
        "    \"\"\"\n",
        "    ex = np.exp(x)\n",
        "    return ex / np.sum(ex, 1, keepdims=1) # standard: np.exp(x) / np.sum(np.exp(x), 1)\n",
        "\n",
        "def softmax_crossentropy_with_logits(logits,reference_answers):\n",
        "    \"\"\"\n",
        "    Compute cross-entropy loss for each sample from output logits [batch,n_classes] and reference_answers [batch].\n",
        "    Note that the reference_answers are not one-hot labels. Instead, they are the index of the categories, e.g., 2 instead of [0,0,1].\n",
        "    The output (xentropy) shape should be [batch,1] or [batch].\n",
        "    \"\"\"\n",
        "    n = len(reference_answers)\n",
        "\n",
        "    # compute probabilities using softmax (output shape: [batch,n_classes])\n",
        "    softmaxed_logits = softmax(logits)\n",
        "\n",
        "    # extract probabilities of the correct answers only (output shape: [batch])\n",
        "    predicted_probs = softmaxed_logits[range(n), reference_answers]\n",
        "\n",
        "    # compute cross entropy as negative sum of log-probabilities of the correct answers\n",
        "    xentropy = -np.mean(np.log(predicted_probs))\n",
        "\n",
        "    return xentropy\n",
        "\n",
        "def grad_softmax_crossentropy_with_logits(logits,reference_answers):\n",
        "    \"\"\"\n",
        "    Compute cross-entropy gradient from output logits [batch,n_classes] and reference_answers [batch].\n",
        "    Note that the reference_answers are not one-hot labels. Instead, they are the index of the categories, e.g., 2 instead of [0,0,1].\n",
        "    \"\"\"\n",
        "\n",
        "    # ToDo: Get the cross-entropy gradient based on output logits and reference_answers\n",
        "    # Hint: Same as before, it is better to first derive and get the simplest form of the softmax cross-entropy gradient before implementation.\n",
        "\n",
        "    \"\"\"\n",
        "    # vectorised implementation of softmax (output shape: [batch,n_classes])\n",
        "    softmaxed_logits = softmax(logits)\n",
        "\n",
        "    predicted_probs = softmaxed_logits[np.arange(len(logits)), reference_answers]\n",
        "\n",
        "    # gradient is 0 for all classes except the correct one, for which it is -1 / p_j\n",
        "    grad_input = np.zeros(softmaxed_logits.shape)\n",
        "    grad_input[np.arange(len(logits)), reference_answers] = -1 / predicted_probs\n",
        "    \"\"\"\n",
        "    n = len(reference_answers)\n",
        "    grad_input = softmax(logits)\n",
        "    grad_input[np.arange(n), reference_answers] -= 1\n",
        "    grad_input /= n\n",
        "    \n",
        "    return grad_input"
      ]
    },
    {
      "cell_type": "markdown",
      "metadata": {},
      "source": [
        "### 1.4. Network and Forward pass (1 pts)"
      ]
    },
    {
      "cell_type": "markdown",
      "metadata": {
        "id": "XErb4TrFjw8G"
      },
      "source": [
        "First, we define network as a list of layers, each applied on top of previous one."
      ]
    },
    {
      "cell_type": "code",
      "execution_count": 6,
      "metadata": {
        "collapsed": true,
        "id": "TOVs-C5pjw8G"
      },
      "outputs": [],
      "source": [
        "network = []\n",
        "network.append(Fully_connected(1000, 256))\n",
        "network.append(ReLU())\n",
        "network.append(Fully_connected(256, 64))\n",
        "network.append(ReLU())\n",
        "network.append(Fully_connected(64, 8))"
      ]
    },
    {
      "cell_type": "markdown",
      "metadata": {},
      "source": [
        "Here, we implement the forward pass."
      ]
    },
    {
      "cell_type": "code",
      "execution_count": 7,
      "metadata": {
        "collapsed": true,
        "id": "qUD5bRhBjw8G"
      },
      "outputs": [],
      "source": [
        "def forward(network, X):\n",
        "    \"\"\"\n",
        "    Compute the output of all network layers by applying them sequentially.\n",
        "    Note that we should return a list of outputs for each layer since we need them for backward pass.\n",
        "    \"\"\"\n",
        "    \n",
        "    outputs = []\n",
        "    input = X\n",
        "\n",
        "    for layer in network:\n",
        "        output = layer.forward(input)\n",
        "        outputs.append(output)\n",
        "        input = output\n",
        "\n",
        "    return outputs\n",
        "\n",
        "def predict(network, X):\n",
        "    \"\"\"\n",
        "    Use network to predict the result for each sample. Since we are doing classification, the result should be the index of the most likely class.\n",
        "    \"\"\"\n",
        "\n",
        "    # ToDo: using network to get the final output of the model\n",
        "    prediction = np.argmax(forward(network, X)[-1], axis=1)\n",
        "\n",
        "    return prediction"
      ]
    },
    {
      "cell_type": "markdown",
      "metadata": {
        "id": "LdwEd2Gwjw8G"
      },
      "source": [
        "### 1.5. Train and Backprop (2 pts)\n",
        "\n",
        "We implement the training function here. The function takes a network, network input X, and ground truth y as the inputs.\n",
        "When calling this function, we want to have a forward pass and a backward pass."
      ]
    },
    {
      "cell_type": "code",
      "execution_count": 8,
      "metadata": {
        "collapsed": true,
        "id": "Yd92p8kMjw8H"
      },
      "outputs": [],
      "source": [
        "def train(network,X,y):\n",
        "    \"\"\"\n",
        "    Train your network on a given batch of X and y only once.\n",
        "    Here are the steps to train once:\n",
        "    1. Run forward to get all layer outputs.\n",
        "    2. Estimate loss and loss_grad.\n",
        "    3. Run layer.backward going from last layer to first.\n",
        "\n",
        "    Note that after you called backward for all layers, the layers with trainable parameters should have already updated.\n",
        "    \"\"\"\n",
        "\n",
        "    # ToDo: run forward to get outputs of all layers.\n",
        "    layer_outputs = forward(network, X)\n",
        "\n",
        "    # ToDo: Since we need the layer input for backward pass, here we get a list of layer input. \n",
        "    # Hint: layer_input[i] is an input for network[i].\n",
        "    layer_inputs = [X, *layer_outputs[:-1]]\n",
        "    logits = layer_outputs[-1]\n",
        "\n",
        "    # ToDo: Compute the loss and the initial gradient\n",
        "    loss = softmax_crossentropy_with_logits(logits, y)\n",
        "    loss_grad = grad_softmax_crossentropy_with_logits(logits, y)\n",
        "\n",
        "    # ToDo: propagate gradients through network layers using .backward\n",
        "    # Hint: start from last layer and move to earlier layers\n",
        "    for layer in network[::-1]:\n",
        "        layer_input = layer_inputs.pop()\n",
        "        loss_grad = layer.backward(layer_input, loss_grad)\n",
        "\n",
        "    return np.mean(loss)"
      ]
    },
    {
      "cell_type": "markdown",
      "metadata": {
        "id": "NwAmZNidjw8H"
      },
      "source": [
        "## 2. Test your network (2 pt)\n",
        "\n",
        "In this homework, we use a single-cell dataset: Pancreas Dataset. Our task is to classify cells to cell types based on the gene expression information. There are 8 different cell types. Cells are samples, genes are features, and cell types are classes.\n",
        "\n",
        "You need to load the data from '.csv' and implement a simple dataloader. (If you do not remember why we need a dataloader, you can check Exercise 1.)"
      ]
    },
    {
      "cell_type": "code",
      "execution_count": 9,
      "metadata": {},
      "outputs": [],
      "source": [
        "# ToDo: Load input data from 'data.csv'. Data in csv has 8391 rows and 1000 columns\n",
        "\n",
        "# 8391 rows mean there are 8391 cells.\n",
        "# 1000 columns mean 1000 genes are measured for each cell.\n",
        "\n",
        "# ToDo: Load labels from 'label.csv' using numpy. Do not import other packages, e.g., pandas.\n",
        "data = np.loadtxt('data.csv', delimiter=',')\n",
        "\n",
        "# There are 8391 strings in 'label.csv', and they are the cell type of the 8391 cells.\n",
        "# The input data and labels are aligned:\n",
        "# For example, the first string in 'label.csv' is the cell type of the first cell (frist row of data) of 'data.csv'\n",
        "# In other words, data[0] and cell_type_per_sample[0] should be paired.\n",
        "\n",
        "cell_type_per_sample = np.loadtxt('label.csv', delimiter=\",\", dtype=str)\n",
        "\n",
        "# ToDo: Get integer labels from the cell types of data type string\n",
        "uniques = np.unique(cell_type_per_sample)\n",
        "idx2label = {idx: label for idx, label in enumerate(uniques)}\n",
        "label2idx = {label: idx for idx, label in enumerate(uniques)}\n",
        "\n",
        "labels = np.array([label2idx[cell_type] for cell_type in cell_type_per_sample])\n",
        "\n",
        "# ToDo: Split train and val data. You can choose the ratio of splitting, and you can decide whether to shuffle the data or not.\n",
        "n, p = data.shape\n",
        "train_ratio = 0.8\n",
        "train_samples = int(n * train_ratio)\n",
        "\n",
        "X_train = data[:train_samples]\n",
        "y_train = labels[:train_samples]\n",
        "\n",
        "X_val = data[train_samples:]\n",
        "y_val = labels[train_samples:]"
      ]
    },
    {
      "cell_type": "markdown",
      "metadata": {},
      "source": [
        "Now, we have the training and test data. We need a dataloader."
      ]
    },
    {
      "cell_type": "code",
      "execution_count": 10,
      "metadata": {
        "collapsed": true,
        "id": "iHuBzg4Djw8H"
      },
      "outputs": [],
      "source": [
        "# A mini-dataloader\n",
        "from tqdm import trange\n",
        "\n",
        "# Note: function signatures should remain the same, but the skeleton is just a guide and can be changed.\n",
        "def iterate_minibatches(inputs, targets, batchsize, shuffle=False):\n",
        "    assert len(inputs) == len(targets)\n",
        "\n",
        "    indices = np.arange(len(inputs))\n",
        "    if shuffle:\n",
        "        # ToDo: re-order the indices for shuffling the samples\n",
        "        np.random.shuffle(indices)\n",
        "    \n",
        "    for start_idx in trange(0, len(inputs) - batchsize + 1, batchsize):\n",
        "\n",
        "        # ToDo: get indexs for the current mini-batch\n",
        "        indexs = np.arange(start_idx, start_idx + batchsize)\n",
        "        indexs = indices[indexs]\n",
        "\n",
        "        yield inputs[indexs], targets[indexs]"
      ]
    },
    {
      "cell_type": "markdown",
      "metadata": {},
      "source": [
        "Now, test your model! You should get a more than 90% accuracy for training data and a more than 85% accuracy for validation data."
      ]
    },
    {
      "cell_type": "code",
      "execution_count": 11,
      "metadata": {
        "colab": {
          "base_uri": "https://localhost:8080/",
          "height": 481
        },
        "collapsed": true,
        "id": "3FOu8r1Qjw8H",
        "outputId": "1f76da29-96ca-4518-9499-b6a324cf898c"
      },
      "outputs": [
        {
          "name": "stdout",
          "output_type": "stream",
          "text": [
            "Epoch 9\n",
            "Train accuracy: 0.9149284862932062\n",
            "Val accuracy: 0.8921977367480644\n"
          ]
        },
        {
          "data": {
            "image/png": "[encoded data removed]",
            "text/plain": [
              "<Figure size 640x480 with 1 Axes>"
            ]
          },
          "metadata": {},
          "output_type": "display_data"
        }
      ],
      "source": [
        "import matplotlib.pyplot as plt\n",
        "from IPython.display import clear_output\n",
        "\n",
        "train_log = []\n",
        "val_log = []\n",
        "\n",
        "for epoch in range(10):\n",
        "    for x_batch,y_batch in iterate_minibatches(X_train, y_train, batchsize=256, shuffle=True):\n",
        "        train(network, x_batch, y_batch)\n",
        "\n",
        "    train_log.append(np.mean(predict(network, X_train) == y_train))\n",
        "    val_log.append(np.mean(predict(network, X_val) == y_val))\n",
        "\n",
        "    clear_output()\n",
        "    print(\"Epoch\",epoch)\n",
        "    print(\"Train accuracy:\",train_log[-1])\n",
        "    print(\"Val accuracy:\",val_log[-1])\n",
        "\n",
        "plt.plot(train_log,label='train accuracy')\n",
        "plt.plot(val_log,label='val accuracy')\n",
        "plt.legend(loc='best')\n",
        "plt.grid()\n",
        "plt.show()"
      ]
    }
  ],
  "metadata": {
    "colab": {
      "provenance": []
    },
    "kernelspec": {
      "display_name": "Python 3 (ipykernel)",
      "language": "python",
      "name": "python3"
    },
    "language_info": {
      "codemirror_mode": {
        "name": "ipython",
        "version": 3
      },
      "file_extension": ".py",
      "mimetype": "text/x-python",
      "name": "python",
      "nbconvert_exporter": "python",
      "pygments_lexer": "ipython3",
      "version": "3.9.16"
    },
    "toc": {
      "colors": {
        "hover_highlight": "#DAA520",
        "navigate_num": "#000000",
        "navigate_text": "#333333",
        "running_highlight": "#FF0000",
        "selected_highlight": "#FFD700",
        "sidebar_border": "#EEEEEE",
        "wrapper_background": "#FFFFFF"
      },
      "moveMenuLeft": true,
      "nav_menu": {
        "height": "264px",
        "width": "252px"
      },
      "navigate_menu": true,
      "number_sections": true,
      "sideBar": true,
      "threshold": 4,
      "toc_cell": false,
      "toc_section_display": "block",
      "toc_window_display": false,
      "widenNotebook": false
    }
  },
  "nbformat": 4,
  "nbformat_minor": 0
}
