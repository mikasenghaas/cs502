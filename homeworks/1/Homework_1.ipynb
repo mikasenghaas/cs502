{
  "cells": [
    {
      "cell_type": "markdown",
      "metadata": {
        "id": "GGZawn6zjw8B"
      },
      "source": [
        "# Homework 1 - Name, SCIPER\n",
        "\n",
        "In this homework, we're going to build a neural network without using deep learning packages.\n",
        "\n",
        "Specifically, we're going to build a neural network that annotate cells to cell types in the Pancreas tissue. To do so, we'll need a few building blocks:\n",
        "- Fully-connected layer, $f(X)=X \\cdot W + \\vec{b}$\n",
        "- Nonlinearity layer (ReLU in this homework)\n",
        "- Loss function (Cross-entropy in this homework)\n",
        "- Backprop algorithm - a stochastic gradient descent with backpropageted gradients\n",
        "\n",
        "Reference: \n",
        "- https://github.com/yandexdataschool/Practical_DL/tree/fall23\n",
        "- https://github.com/theislab/scarches-reproducibility"
      ]
    },
    {
      "cell_type": "code",
      "execution_count": 1,
      "metadata": {
        "colab": {
          "base_uri": "https://localhost:8080/"
        },
        "collapsed": true,
        "id": "U_M_6S9Ujw8C",
        "outputId": "173ca758-099b-4fc0-9056-dd5717d38034"
      },
      "outputs": [],
      "source": [
        "import numpy as np\n",
        "np.random.seed(0)"
      ]
    },
    {
      "cell_type": "markdown",
      "metadata": {
        "id": "jF1dyLBTjw8D"
      },
      "source": [
        "## 0. Create the Parent Class 'Layer' (0 pt)\n",
        "\n",
        "As we learned in the lecture, we need layers that can do both forward pass and backward pass. Here we define the parent class of all layers."
      ]
    },
    {
      "cell_type": "code",
      "execution_count": 2,
      "metadata": {
        "collapsed": true,
        "id": "fQv1zgRUjw8D"
      },
      "outputs": [],
      "source": [
        "class Layer:\n",
        "\n",
        "    \"\"\"\n",
        "    Each layer performs two things:\n",
        "    1. Forward pass: Process input to get output: output = layer.forward(input)\n",
        "    2. Backward pass: Back-propagate gradients through itself: grad_input = layer.backward(input, grad_output)\n",
        "\n",
        "    The layers that contain learnable parameters also update their parameters during layer.backward.\n",
        "    \"\"\"\n",
        "\n",
        "    def __init__(self):\n",
        "        \"\"\"\n",
        "        Initialize layer parameters.\n",
        "        \"\"\"\n",
        "\n",
        "        # Here we use a dummy layer that does nothing.\n",
        "        pass\n",
        "\n",
        "    def forward(self, input):\n",
        "        \"\"\"\n",
        "        Takes input data of shape [batch, input_dims], returns output data [batch, output_dims]\n",
        "        \"\"\"\n",
        "\n",
        "        # Here we use a dummy layer that returns the input.\n",
        "        return input\n",
        "\n",
        "    def backward(self, input, grad_output):\n",
        "        \"\"\"\n",
        "        Performs a backpropagation step through the layer.\n",
        "\n",
        "        We need to apply the chain rule to compute the gradients of the input x:\n",
        "        d loss / d x  = (d loss / d layer) * (d layer / d x)\n",
        "\n",
        "        Grad_output provides us d loss / d layer, so we only need to multiply it by d layer / d x.\n",
        "\n",
        "        Note that if the layer has trainable parameters, we also need to update them using d loss / d layer.\n",
        "        \"\"\"\n",
        "\n",
        "        # The gradient of a dummy layer is grad_output\n",
        "        return grad_output"
      ]
    },
    {
      "cell_type": "markdown",
      "metadata": {
        "id": "U3Q_CChKjw8E"
      },
      "source": [
        "## 1. Build layers\n",
        "\n",
        "We will shortly introduce our dataset's structure in this section, and it should be enough to complete the functions in this section. However, if you find knowing the dataset structure is super helpful to implement the functions of this section, *you can jump to Section 2* and check the dataset structure before going through this section.\n",
        "\n",
        "### 1.1. Nonlinearity layer - ReLU (1 pt) \n",
        "\n",
        "We start from the simplest layer: nonlinearity layer. It simply applies a nonlinearity to each element of your network and it contains no trainable parameter.\n",
        "\n",
        "Here we implement ReLU. \n",
        "\n",
        "Check this link to review ReLU if needed: https://www.v7labs.com/blog/neural-networks-activation-functions"
      ]
    },
    {
      "cell_type": "code",
      "execution_count": 3,
      "metadata": {
        "collapsed": true,
        "id": "Sj5NNWB9jw8E"
      },
      "outputs": [],
      "source": [
        "class ReLU(Layer):\n",
        "    def __init__(self):\n",
        "        \"\"\"\n",
        "        ReLU layer applies elementwise rectified linear to the elements in the inputs.\n",
        "        There is nothing to initialize in this simple implementation.\n",
        "        \"\"\"\n",
        "\n",
        "        pass\n",
        "\n",
        "    def forward(self, input):\n",
        "        \"\"\"\n",
        "        Apply elementwise ReLU to the input\n",
        "        \"\"\"\n",
        "\n",
        "        # Element-wise implementation of ReLU(x)=max(0,x)\n",
        "        output = np.maximum(0, input)\n",
        "        \n",
        "        return output\n",
        "\n",
        "    def backward(self, input, grad_output):\n",
        "        \"\"\"\n",
        "        Compute the gradient of loss. \n",
        "        \"\"\"\n",
        "\n",
        "        # ReLU gradient following piece-wise differentiation (applied element-wise to each element in input)\n",
        "        grad_relu = 1 * (input > 0) \n",
        "        \n",
        "        # Chain rule to obtain gradient of loss w.r.t. input\n",
        "        grad_input = grad_relu * grad_output \n",
        "\n",
        "        return grad_input"
      ]
    },
    {
      "cell_type": "markdown",
      "metadata": {
        "id": "aihMC0K8jw8E"
      },
      "source": [
        "### 1.2. Fully-connected Layer (2 pts)\n",
        "\n",
        "After implementing the simplest layer, we come to a more complicated one: a fully-connected layer. Unlike a nonlinearity layer, a fully-connected layer has trainable parameters.\n",
        "\n",
        "A fully-connected layer applies an affine transformation. It can be described as: \n",
        "$$f(X)= X \\cdot W + \\vec b ,$$\n",
        "\n",
        "where\n",
        "* X is the input of shape [batch_size, input_dims],\n",
        "* W is a weight matrix [input_dims, output_dims],\n",
        "* and b is a vector of outputs_dims biases.\n",
        "\n",
        "W and b are\n",
        "* initialized when the layer is created,\n",
        "* and updated each time backward is called."
      ]
    },
    {
      "cell_type": "code",
      "execution_count": 4,
      "metadata": {
        "collapsed": true,
        "id": "VOkSrmYzjw8E"
      },
      "outputs": [],
      "source": [
        "class Fully_connected(Layer):\n",
        "    def __init__(self, input_dims, output_dims, learning_rate=0.01):\n",
        "        \"\"\"\n",
        "        Fully_connected layer: f(x) = <x*W> + b\n",
        "        We initialize W, b, and learning rate to update W and b.\n",
        "        \"\"\"\n",
        "\n",
        "        # Scaling factor is the inverse root of input dimensions to obtain output with standard variance\n",
        "        scaling_param = input_dims**(-1/2)\n",
        "\n",
        "        # Standard normal initialisation with N(0, scaling_param)\n",
        "        self.weights = np.random.randn(input_dims, output_dims) * scaling_param\n",
        "\n",
        "        # Zero initialisation of biases\n",
        "        self.biases = np.zeros(output_dims)\n",
        "\n",
        "        self.learning_rate = learning_rate\n",
        "\n",
        "    def forward(self,input):\n",
        "        \"\"\"\n",
        "        Perform f(x) = <x*W> + b .\n",
        "\n",
        "        input shape: [batch, input_dims]\n",
        "        output shape: [batch, output_dims]\n",
        "        \"\"\"\n",
        "\n",
        "        # Linear layer output is linear transformation of inputs\n",
        "        output = input @ self.weights + self.biases\n",
        "\n",
        "        return output\n",
        "\n",
        "    def backward(self,input,grad_output):\n",
        "\n",
        "        # Local derivatives of fully-connected layer output w.r.t individual components\n",
        "        grad_input = grad_output @ self.weights.T\n",
        "        grad_weights = input.T @ grad_output\n",
        "        grad_biases = grad_output.sum(0)\n",
        "\n",
        "        # Gradient update of weights and biases according to standard SGD step: x = x - learning_rate * gradient_of_x.\n",
        "        self.weights -= self.learning_rate * grad_weights\n",
        "        self.biases -= self.learning_rate * grad_biases\n",
        "\n",
        "        return grad_input"
      ]
    },
    {
      "cell_type": "markdown",
      "metadata": {
        "id": "pvXCRmwKjw8G"
      },
      "source": [
        "### 1.3. The loss function - softmax cross-entropy (2 pts)\n",
        "\n",
        "Our model outputs the logits. Since we want to predict probabilities, it would be logical for us to apply softmax nonlinearity to our output logits and compute loss with predicted probabilities.\n",
        "\n",
        "If you are not familiar with softmax or cross-entropy loss, you can check:\n",
        "- Softmax: https://en.wikipedia.org/wiki/Softmax_function\n",
        "- Cross-entropy loss: https://ml-cheatsheet.readthedocs.io/en/latest/loss_functions.html#cross-entropy\n",
        "\n",
        "\n",
        "(We encourage you to first write down the expression for cross-entropy as a function of softmax logits. You can then try to rewrite it into a more concise form.)"
      ]
    },
    {
      "cell_type": "code",
      "execution_count": 5,
      "metadata": {
        "collapsed": true,
        "id": "jPw8k28mjw8G"
      },
      "outputs": [],
      "source": [
        "def softmax(x):\n",
        "    \"\"\"\n",
        "    Compute softmax values for each sets of scores in x with shape [batch,n_classes].\n",
        "    \"\"\"\n",
        "    ex = np.exp(x)\n",
        "    return ex / np.sum(ex, 1, keepdims=1)\n",
        "\n",
        "def softmax_crossentropy_with_logits(logits,reference_answers):\n",
        "    \"\"\"\n",
        "    Compute cross-entropy loss for each sample from output logits [batch,n_classes] and reference_answers [batch].\n",
        "    Note that the reference_answers are not one-hot labels. Instead, they are the index of the categories, e.g., 2 instead of [0,0,1].\n",
        "    The output (xentropy) shape should be [batch,1] or [batch].\n",
        "    \"\"\"\n",
        "\n",
        "    # Number of samples in batch\n",
        "    n = len(reference_answers)\n",
        "\n",
        "    # Obtain probabilities using softmax (output shape: [batch,n_classes])\n",
        "    softmaxed_logits = softmax(logits)\n",
        "\n",
        "    # Extract probabilities of the correct answers only (output shape: [batch])\n",
        "    predicted_probs = softmaxed_logits[range(n), reference_answers]\n",
        "\n",
        "    # Compute cross entropy as negative sum of log-probabilities of the correct answers\n",
        "    xentropy = -np.mean(np.log(predicted_probs))\n",
        "\n",
        "    return xentropy\n",
        "\n",
        "def grad_softmax_crossentropy_with_logits(logits,reference_answers):\n",
        "    \"\"\"\n",
        "    Compute cross-entropy gradient from output logits [batch,n_classes] and reference_answers [batch].\n",
        "    Note that the reference_answers are not one-hot labels. Instead, they are the index of the categories, e.g., 2 instead of [0,0,1].\n",
        "    \"\"\"\n",
        "\n",
        "    # Number of samples in batch\n",
        "    n = len(reference_answers)\n",
        "\n",
        "    # Initialise gradients of logits to softmaxed probabilities\n",
        "    grad_input = softmax(logits)\n",
        "\n",
        "    # Gradients at indices of correct labels are subtracted by 1\n",
        "    grad_input[np.arange(n), reference_answers] -= 1\n",
        "\n",
        "    # Scale gradient by number of samples\n",
        "    grad_input /= n\n",
        "    \n",
        "    return grad_input"
      ]
    },
    {
      "cell_type": "markdown",
      "metadata": {},
      "source": [
        "### 1.4. Network and Forward pass (1 pts)"
      ]
    },
    {
      "cell_type": "markdown",
      "metadata": {
        "id": "XErb4TrFjw8G"
      },
      "source": [
        "First, we define network as a list of layers, each applied on top of previous one."
      ]
    },
    {
      "cell_type": "code",
      "execution_count": 6,
      "metadata": {
        "collapsed": true,
        "id": "TOVs-C5pjw8G"
      },
      "outputs": [],
      "source": [
        "network = []\n",
        "network.append(Fully_connected(1000, 256))\n",
        "network.append(ReLU())\n",
        "network.append(Fully_connected(256, 64))\n",
        "network.append(ReLU())\n",
        "network.append(Fully_connected(64, 8))"
      ]
    },
    {
      "cell_type": "markdown",
      "metadata": {},
      "source": [
        "Here, we implement the forward pass."
      ]
    },
    {
      "cell_type": "code",
      "execution_count": 7,
      "metadata": {
        "collapsed": true,
        "id": "qUD5bRhBjw8G"
      },
      "outputs": [],
      "source": [
        "def forward(network, X):\n",
        "    \"\"\"\n",
        "    Compute the output of all network layers by applying them sequentially.\n",
        "    Note that we should return a list of outputs for each layer since we need them for backward pass.\n",
        "    \"\"\"\n",
        "    \n",
        "    outputs = []\n",
        "    input = X\n",
        "\n",
        "    # Forward pass\n",
        "    for layer in network:\n",
        "        output = layer.forward(input)\n",
        "        outputs.append(output)\n",
        "        input = output\n",
        "\n",
        "    return outputs\n",
        "\n",
        "def predict(network, X):\n",
        "    \"\"\"\n",
        "    Use network to predict the result for each sample. Since we are doing classification, the result should be the index of the most likely class.\n",
        "    \"\"\"\n",
        "\n",
        "    # Logits are output of final fc layer\n",
        "    logits = forward(network, X)[-1] \n",
        "\n",
        "    # Obtain predictions as index of largest logit for each sample\n",
        "    prediction = np.argmax(logits, axis=1) \n",
        "\n",
        "    return prediction"
      ]
    },
    {
      "cell_type": "markdown",
      "metadata": {
        "id": "LdwEd2Gwjw8G"
      },
      "source": [
        "### 1.5. Train and Backprop (2 pts)\n",
        "\n",
        "We implement the training function here. The function takes a network, network input X, and ground truth y as the inputs.\n",
        "When calling this function, we want to have a forward pass and a backward pass."
      ]
    },
    {
      "cell_type": "code",
      "execution_count": 8,
      "metadata": {
        "collapsed": true,
        "id": "Yd92p8kMjw8H"
      },
      "outputs": [],
      "source": [
        "def train(network,X,y):\n",
        "    \"\"\"\n",
        "    Train your network on a given batch of X and y only once.\n",
        "    Here are the steps to train once:\n",
        "    1. Run forward to get all layer outputs.\n",
        "    2. Estimate loss and loss_grad.\n",
        "    3. Run layer.backward going from last layer to first.\n",
        "\n",
        "    Note that after you called backward for all layers, the layers with trainable parameters should have already updated.\n",
        "    \"\"\"\n",
        "\n",
        "    # Run forward to get outputs of all layers\n",
        "    layer_outputs = forward(network, X)\n",
        "\n",
        "    # Collect layer inputs for gradient computation\n",
        "    layer_inputs = [X, *layer_outputs[:-1]]\n",
        "\n",
        "    # Logits are output of last layer\n",
        "    logits = layer_outputs[-1]\n",
        "\n",
        "    # Compute loss and loss gradient\n",
        "    loss = softmax_crossentropy_with_logits(logits, y)\n",
        "    loss_grad = grad_softmax_crossentropy_with_logits(logits, y)\n",
        "\n",
        "    # Propagate gradients through network layers using .backward()\n",
        "    for layer in network[::-1]:\n",
        "        layer_input = layer_inputs.pop()\n",
        "        loss_grad = layer.backward(layer_input, loss_grad)\n",
        "\n",
        "    return np.mean(loss)"
      ]
    },
    {
      "cell_type": "markdown",
      "metadata": {
        "id": "NwAmZNidjw8H"
      },
      "source": [
        "## 2. Test your network (2 pt)\n",
        "\n",
        "In this homework, we use a single-cell dataset: Pancreas Dataset. Our task is to classify cells to cell types based on the gene expression information. There are 8 different cell types. Cells are samples, genes are features, and cell types are classes.\n",
        "\n",
        "You need to load the data from '.csv' and implement a simple dataloader. (If you do not remember why we need a dataloader, you can check Exercise 1.)"
      ]
    },
    {
      "cell_type": "code",
      "execution_count": 9,
      "metadata": {},
      "outputs": [],
      "source": [
        "# Load input data from 'data.csv' (+check; data in csv has 8391 rows and 1000 columns)\n",
        "data = np.loadtxt('data.csv', delimiter=',')\n",
        "assert data.shape == (8391, 1000), \"Input data dimension should be (8391, 1000)\"\n",
        "\n",
        "# Load labels from 'label.csv' using numpy. Do not import other packages, e.g., pandas.\n",
        "cell_type_per_sample = np.loadtxt('label.csv', delimiter=\",\", dtype=str)\n",
        "assert cell_type_per_sample.shape == (8391,), \"Output dimension should be (8391, )\"\n",
        "\n",
        "# Integer-encode labels and save mappings\n",
        "uniques = np.unique(cell_type_per_sample)\n",
        "idx2label = {idx: label for idx, label in enumerate(uniques)}\n",
        "label2idx = {label: idx for idx, label in enumerate(uniques)}\n",
        "\n",
        "# Get integer labels from the cell types of data type string\n",
        "labels = np.array([label2idx[cell_type] for cell_type in cell_type_per_sample])\n",
        "\n",
        "# Split train and val data (here with 80% train ratio and no shuffling)\n",
        "n, p = data.shape\n",
        "train_ratio = 0.8\n",
        "train_samples = int(n * train_ratio)\n",
        "\n",
        "X_train = data[:train_samples]\n",
        "y_train = labels[:train_samples]\n",
        "\n",
        "X_val = data[train_samples:]\n",
        "y_val = labels[train_samples:]"
      ]
    },
    {
      "cell_type": "markdown",
      "metadata": {},
      "source": [
        "Now, we have the training and test data. We need a dataloader."
      ]
    },
    {
      "cell_type": "code",
      "execution_count": 10,
      "metadata": {
        "collapsed": true,
        "id": "iHuBzg4Djw8H"
      },
      "outputs": [],
      "source": [
        "# A mini-dataloader\n",
        "from tqdm import trange\n",
        "\n",
        "# Note: function signatures should remain the same, but the skeleton is just a guide and can be changed.\n",
        "def iterate_minibatches(inputs, targets, batchsize, shuffle=False):\n",
        "    assert len(inputs) == len(targets)\n",
        "\n",
        "    indices = np.arange(len(inputs))\n",
        "\n",
        "    # Shuffle indices if shuffle flag is set\n",
        "    if shuffle:\n",
        "        np.random.shuffle(indices)\n",
        "    \n",
        "    for start_idx in trange(0, len(inputs) - batchsize + 1, batchsize):\n",
        "        # Get indexes for the current mini-batch\n",
        "        indexs = indices[np.arange(start_idx, start_idx + batchsize)]\n",
        "\n",
        "        yield inputs[indexs], targets[indexs]"
      ]
    },
    {
      "cell_type": "markdown",
      "metadata": {},
      "source": [
        "Now, test your model! You should get a more than 90% accuracy for training data and a more than 85% accuracy for validation data."
      ]
    },
    {
      "cell_type": "code",
      "execution_count": 11,
      "metadata": {
        "colab": {
          "base_uri": "https://localhost:8080/",
          "height": 481
        },
        "collapsed": true,
        "id": "3FOu8r1Qjw8H",
        "outputId": "1f76da29-96ca-4518-9499-b6a324cf898c"
      },
      "outputs": [
        {
          "name": "stdout",
          "output_type": "stream",
          "text": [
            "Epoch 9\n",
            "Train accuracy: 0.9280393325387366\n",
            "Val accuracy: 0.8957712924359738\n"
          ]
        },
        {
          "data": {
            "image/png": "[encoded data removed]",
            "text/plain": [
              "<Figure size 640x480 with 1 Axes>"
            ]
          },
          "metadata": {},
          "output_type": "display_data"
        }
      ],
      "source": [
        "import matplotlib.pyplot as plt\n",
        "from IPython.display import clear_output\n",
        "\n",
        "train_log = []\n",
        "val_log = []\n",
        "\n",
        "for epoch in range(10):\n",
        "\n",
        "    for x_batch,y_batch in iterate_minibatches(X_train, y_train, batchsize=256, shuffle=True):\n",
        "        train(network, x_batch, y_batch)\n",
        "\n",
        "    train_log.append(np.mean(predict(network, X_train) == y_train))\n",
        "    val_log.append(np.mean(predict(network, X_val) == y_val))\n",
        "\n",
        "    clear_output()\n",
        "    print(\"Epoch\",epoch)\n",
        "    print(\"Train accuracy:\",train_log[-1])\n",
        "    print(\"Val accuracy:\",val_log[-1])\n",
        "\n",
        "plt.plot(train_log,label='train accuracy')\n",
        "plt.plot(val_log,label='val accuracy')\n",
        "plt.legend(loc='best')\n",
        "plt.grid()\n",
        "plt.show()"
      ]
    }
  ],
  "metadata": {
    "colab": {
      "provenance": []
    },
    "kernelspec": {
      "display_name": "Python 3 (ipykernel)",
      "language": "python",
      "name": "python3"
    },
    "language_info": {
      "codemirror_mode": {
        "name": "ipython",
        "version": 3
      },
      "file_extension": ".py",
      "mimetype": "text/x-python",
      "name": "python",
      "nbconvert_exporter": "python",
      "pygments_lexer": "ipython3",
      "version": "3.9.16"
    },
    "toc": {
      "colors": {
        "hover_highlight": "#DAA520",
        "navigate_num": "#000000",
        "navigate_text": "#333333",
        "running_highlight": "#FF0000",
        "selected_highlight": "#FFD700",
        "sidebar_border": "#EEEEEE",
        "wrapper_background": "#FFFFFF"
      },
      "moveMenuLeft": true,
      "nav_menu": {
        "height": "264px",
        "width": "252px"
      },
      "navigate_menu": true,
      "number_sections": true,
      "sideBar": true,
      "threshold": 4,
      "toc_cell": false,
      "toc_section_display": "block",
      "toc_window_display": false,
      "widenNotebook": false
    }
  },
  "nbformat": 4,
  "nbformat_minor": 0
}
