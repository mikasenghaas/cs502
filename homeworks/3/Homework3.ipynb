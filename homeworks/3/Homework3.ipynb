{
 "cells": [
  {
   "cell_type": "markdown",
   "metadata": {},
   "source": [
    "# Homework 3 - Jonas-Mika Senghaas, 377332"
   ]
  },
  {
   "cell_type": "markdown",
   "metadata": {},
   "source": [
    "In this homework, we are going to work with the transformer. There are three parts of this homework.\n",
    "\n",
    "- In the first part, we are going to implement **positional encoding** and **self-attention**  and test them on a simple text dataset which contains around 100 sentences. We will use a small transformer in this task.\n",
    "\n",
    "- In the second part, we will detect promoters from the DNA sequences. The main difference compared to the previous task is to tokenize the DNA sequence. Thus, our task here is to build the **tokenizer** to tokenize the DNA sequence. For the model, we will continue using the small transformer.\n",
    "\n",
    "- In the third part, we will use a **foundation model** DNABERT to perform promoter detection. In this part, you do not need to train the transformer. Instead, you need to find and load the correct pre-trained model and then use it to get the embedding of the DNA sequence. Then, you will build a simple classifier to perform promoter detection based on the DNA embedding.\n",
    "\n"
   ]
  },
  {
   "cell_type": "markdown",
   "metadata": {},
   "source": [
    "## 0. Initialization\n",
    "\n",
    "Import the packages you are going to use here."
   ]
  },
  {
   "cell_type": "code",
   "execution_count": 1,
   "metadata": {},
   "outputs": [],
   "source": [
    "import torch\n",
    "import torch.nn as nn\n",
    "import torch.nn.functional as F\n",
    "import torch.optim as optim\n",
    "from torch.utils.data import DataLoader, TensorDataset\n",
    "import random\n",
    "import numpy as np\n",
    "\n",
    "import ipywidgets as widgets\n",
    "from types import SimpleNamespace\n",
    "from utils import data, evaluation, models, visualization, text_exercise\n",
    "\n",
    "import math"
   ]
  },
  {
   "cell_type": "markdown",
   "metadata": {},
   "source": [
    "Set the hyperparameters."
   ]
  },
  {
   "cell_type": "code",
   "execution_count": 2,
   "metadata": {},
   "outputs": [
    {
     "name": "stdout",
     "output_type": "stream",
     "text": [
      "Using device: mps\n"
     ]
    }
   ],
   "source": [
    "# Set seeds\n",
    "seed = 128\n",
    "torch.backends.cudnn.deterministic = True\n",
    "torch.backends.cudnn.benchmark = False\n",
    "random.seed(seed)\n",
    "np.random.seed(seed)\n",
    "torch.manual_seed(seed)\n",
    "torch.cuda.manual_seed(seed)\n",
    "torch.mps.manual_seed(seed)\n",
    "\n",
    "# Set device\n",
    "device = torch.device(\"cuda\" if torch.cuda.is_available() else \"mps\" if torch.backends.mps.is_built() else \"cpu\")\n",
    "print(f\"Using device: {device}\")"
   ]
  },
  {
   "cell_type": "markdown",
   "metadata": {},
   "source": [
    "## 1. Positional Encoding and Self-Attention (7 pts)"
   ]
  },
  {
   "cell_type": "markdown",
   "metadata": {},
   "source": [
    "### 1.1. Sinusoidal Positional Encoding (1 pt)\n",
    "\n",
    "In this section, you are going to implement the sinusoidal positional encoding. The formula is as the following:\n",
    "\n",
    "<div>\n",
    "<img src=\"./imgs/positional embedding.png\" width=\"400\"/>\n",
    "</div>\n",
    "\n",
    "where $t$ is the desired position in the input and $\\mathsf{\\omega}_k$ follows:\n",
    "\n",
    "<div>\n",
    "<img src=\"./imgs/omega.png\" width=\"200\"/>\n",
    "</div>\n",
    "\n",
    "To see the details of sinusoidal positional encoding, you can check this [link](https://kazemnejad.com/blog/transformer_architecture_positional_encoding/).\n",
    "\n",
    "---"
   ]
  },
  {
   "cell_type": "markdown",
   "metadata": {},
   "source": [
    "Positional encodings assigns a vector to each token position in the input sequence and is added to the embedding of the token itself. For the element-wise addition to work, we are seeking for a tensor that matches the shape of the embedding tensor. In this case, the positional encoding tensor should have the shape of (seq_len, d_model), which are denoted as `max_position_embedding` and `hidden_size` respectively. For any position $t$ and vector index $i$, the positional encoding is defined as:\n",
    "\n",
    "$$\n",
    "\\begin{align*}\n",
    "PE_{t, 2i} &:= sin(\\frac{t}{10000^{{2i}/{d_{model}}}}) \\\\\n",
    "PE_{t, 2i+1} &:= cos(\\frac{t}{10000^{{2i}/{d_{model}}}}) \\\\\n",
    "\\end{align*}\n",
    "$$\n",
    "\n",
    "As we can see, the positional encoding tensor is composed of two parts: the sine part and the cosine part. The sine part is for the even indices and the cosine part is for the odd indices. We realise that the two parts share the input into the trigonometric functions. Thus, we first compute $w_k \\cdot t$ and then use the result to compute the sine and cosine parts and assign them to the even and odd index positions in the positional encoding tensor respectively."
   ]
  },
  {
   "cell_type": "code",
   "execution_count": 3,
   "metadata": {},
   "outputs": [],
   "source": [
    "class PositionalEmbedding(nn.Module):\n",
    "    \"\"\"Returns the positional embedding for inputs of a maximum sequence length and dimension.\"\"\"\n",
    "\n",
    "    def __init__(self, max_position_embeddings, hidden_size, device):\n",
    "        \"\"\"\n",
    "        Initialises the PositionalEmbedding class.\n",
    "\n",
    "        Args:\n",
    "            max_position_embeddings (int): maximum length of the input - related to t in the previous formula\n",
    "            hidden_size (int): encoding dimension - d in the previous formula\n",
    "            device (torch.device): device on which to store the positional embedding\n",
    "        \"\"\"\n",
    "        super().__init__()\n",
    "\n",
    "        # Save parameters\n",
    "        self.max_position_embeddings = max_position_embeddings\n",
    "        self.hidden_size = hidden_size\n",
    "\n",
    "        # Compute positional embeddings\n",
    "        t = torch.arange(max_position_embeddings, device=device).unsqueeze(1)\n",
    "        w = 1 / (10000 ** (2 * torch.arange(hidden_size // 2 + 1, device=device) / hidden_size)) # Compute one more dimensions than needed to account for even/odd\n",
    "\n",
    "        # Initialise positional embedding\n",
    "        self.positional_embedding = torch.zeros(max_position_embeddings, hidden_size, device=device)\n",
    "\n",
    "        # Compute positional embedding for odd dimensions\n",
    "        self.positional_embedding[:, 1::2] = torch.cos(t * w[:-1])\n",
    "\n",
    "        # Compute positional embedding for even dimensions\n",
    "        if hidden_size % 2 == 0:\n",
    "            self.positional_embedding[:, 0::2] = torch.sin(t * w[:-1])\n",
    "        else:\n",
    "            self.positional_embedding[:, 0::2] = torch.sin(t * w)\n",
    "\n",
    "    def forward(self, x):\n",
    "        return self.positional_embedding\n",
    "\n",
    "    def embedding(self):\n",
    "        return self.positional_embedding"
   ]
  },
  {
   "cell_type": "markdown",
   "metadata": {},
   "source": [
    "Here, you can visualize your positional encoding. If you implement everything correctly, you can get a figure that is similar to Figure 2 in this [link](https://kazemnejad.com/blog/transformer_architecture_positional_encoding/)."
   ]
  },
  {
   "cell_type": "code",
   "execution_count": 4,
   "metadata": {},
   "outputs": [
    {
     "data": {
      "application/vnd.jupyter.widget-view+json": {
       "model_id": "c37255a281424edebad958c8e049a858",
       "version_major": 2,
       "version_minor": 0
      },
      "text/plain": [
       "HBox(children=(Dropdown(description='Sequence Length', index=2, options=(100, 500, 1000, 5000), style=Descript…"
      ]
     },
     "metadata": {},
     "output_type": "display_data"
    },
    {
     "data": {
      "application/vnd.jupyter.widget-view+json": {
       "model_id": "ec791e7da12d48e4bda2ac75d5b12a2a",
       "version_major": 2,
       "version_minor": 0
      },
      "text/plain": [
       "Output()"
      ]
     },
     "metadata": {},
     "output_type": "display_data"
    }
   ],
   "source": [
    "(\n",
    "    visualize_embedding,\n",
    "    dimension_selector,\n",
    "    max_len_selector,\n",
    ") = visualization.display_positional_encoding(PositionalEmbedding)\n",
    "ui = widgets.HBox([max_len_selector, dimension_selector])\n",
    "out = widgets.interactive_output(\n",
    "    visualize_embedding, {\"max_len\": max_len_selector, \"dimension\": dimension_selector}\n",
    ")\n",
    "display(ui, out)"
   ]
  },
  {
   "cell_type": "markdown",
   "metadata": {},
   "source": [
    "### 1.2. Self-Attention Mechanism (5 pts)"
   ]
  },
  {
   "cell_type": "markdown",
   "metadata": {},
   "source": [
    "In this section, you are going to implement the self-attention mechanism. Please check the section 'Self-Attention in Detail' in this [link](https://jalammar.github.io/illustrated-transformer/) for the details of self-attention mechanism. (We encourage you to carefully go through the link since it is a very good tutorial for transformer.)\n",
    "\n",
    "The specific steps will be provided in the comments of the following code. (The steps are only for reference. You do need to follow the steps if you have a better way to implement it.)\n",
    "\n",
    "---"
   ]
  },
  {
   "cell_type": "markdown",
   "metadata": {},
   "source": [
    "The `BertSelfAttention` layer uses a single query, key and value matrix that combines the matrices of all the different heads. Thus, to initialise the matrices, we use the combined head size as the output dimensions, and then split the output into the different heads to perform the scaled dot product attention."
   ]
  },
  {
   "cell_type": "code",
   "execution_count": 5,
   "metadata": {},
   "outputs": [],
   "source": [
    "class BertSelfAttention(nn.Module):\n",
    "    def __init__(self, config):\n",
    "        super().__init__()\n",
    "        if config.hidden_size % config.num_attention_heads != 0:\n",
    "            raise ValueError(\n",
    "                \"The hidden size (%d) is not a multiple of the number of attention \"\n",
    "                \"heads (%d)\" % (config.hidden_size, config.num_attention_heads)\n",
    "            )\n",
    "\n",
    "        # Save configuration parameters\n",
    "        self.hidden_size = config.hidden_size\n",
    "        self.output_attentions = config.output_attentions\n",
    "        self.num_attention_heads = config.num_attention_heads\n",
    "        self.attention_head_size = int(config.hidden_size / config.num_attention_heads)\n",
    "        self.all_head_size = self.num_attention_heads * self.attention_head_size\n",
    "\n",
    "        # Initialise attention weights matrices of all heads in a single linear layer\n",
    "        self.query = nn.Linear(config.hidden_size, self.all_head_size)\n",
    "        self.key = nn.Linear(config.hidden_size, self.all_head_size)\n",
    "        self.value = nn.Linear(config.hidden_size, self.all_head_size)\n",
    "\n",
    "        # Add dropout layer\n",
    "        self.dropout = nn.Dropout(config.attention_probs_dropout_prob)\n",
    "\n",
    "    def transpose_for_scores(self, x):\n",
    "        \"\"\"\n",
    "        Permutes an input tensor from (batch_size, seq_len, all_head_size) to\n",
    "        (batch_size, num_heads, seq_len, head_size)\n",
    "        \"\"\"\n",
    "        new_x_shape = x.size()[:-1] + (\n",
    "            self.num_attention_heads,\n",
    "            self.attention_head_size,\n",
    "        )\n",
    "        x = x.view(*new_x_shape)\n",
    "        return x.permute(0, 2, 1, 3)\n",
    "\n",
    "    def reverse_transpose_for_scores(self, x):\n",
    "        \"\"\"\n",
    "        Reverses the transformation applied in transpose_for_scores.\n",
    "        Transforms an input tensor from (batch_size, num_heads, seq_len, head_size)\n",
    "        to (batch_size, seq_len, all_head_size).\n",
    "        \"\"\"\n",
    "        # Undo the permutation\n",
    "        x = x.permute(0, 2, 1, 3)  # Shape becomes (batch_size, seq_len, num_heads, head_size)\n",
    "\n",
    "        # Calculate the original all_head_size\n",
    "        all_head_size = self.num_attention_heads * self.attention_head_size\n",
    "\n",
    "        # Undo the reshaping\n",
    "        new_x_shape = x.size()[:-2] + (all_head_size,)\n",
    "        x = x.reshape(*new_x_shape)\n",
    "\n",
    "        return x\n",
    "\n",
    "    def forward(\n",
    "        self,\n",
    "        hidden_states,\n",
    "        attention_mask=None,\n",
    "        head_mask=None,\n",
    "        encoder_hidden_states=None,\n",
    "        encoder_attention_mask=None,\n",
    "    ):\n",
    "        \"\"\"\n",
    "        Applies self-attention to a batch of input sequences.\n",
    "\n",
    "        NB: The encoder_hidden_states and encoder_attention_mask are for cross-attention\n",
    "        and are not used here.\n",
    "\n",
    "        Args:\n",
    "            hidden_states (torch.Tensor): input tensor of shape (batch_size, seq_len, hidden_size)\n",
    "            attention_mask (torch.Tensor): attention mask of shape (batch_size, seq_len)\n",
    "            head_mask (torch.Tensor): mask to nullify selected heads of shape (num_heads,)\n",
    "\n",
    "        Returns:\n",
    "            torch.Tensor: output tensor of shape (batch_size, seq_len, hidden_size)\n",
    "            torch.Tensor (optional): attention scores of shape (batch_size, num_heads, seq_len, seq_len)\n",
    "        \"\"\"\n",
    "        # Compute the query, key, value matrices in all heads\n",
    "        # Output dimension: (num_batches, seq_len, num_heads * head_size) = (num_batches, seq_len, all_head_size)\n",
    "        mixed_key_layer = self.query(hidden_states)\n",
    "        mixed_query_layer = self.key(hidden_states)\n",
    "        mixed_value_layer = self.value(hidden_states)\n",
    "\n",
    "        # Transpose K, Q, V to get the queries, keys and values in each head\n",
    "        # Output dimension: (num_batches, num_heads, seq_len, head_size)\n",
    "        query_layer = self.transpose_for_scores(mixed_query_layer)\n",
    "        key_layer = self.transpose_for_scores(mixed_key_layer)\n",
    "        value_layer = self.transpose_for_scores(mixed_value_layer)\n",
    "\n",
    "        # Compute attention scores through scaled dot product attention\n",
    "        attention_scores = query_layer @ key_layer.transpose(-1, -2) / math.sqrt(self.hidden_size)\n",
    "\n",
    "        # You do not need to change this part.\n",
    "        # Apply attention mask\n",
    "        if attention_mask is not None:\n",
    "            attention_scores = attention_scores + attention_mask\n",
    "\n",
    "        # Normalize the attention scores to probabilities (+ dropout)\n",
    "        attention_probs = self.dropout(F.softmax(attention_scores, dim=-1))\n",
    "\n",
    "        # You do not need to change this part.\n",
    "        if head_mask is not None:\n",
    "            attention_probs = attention_probs * head_mask\n",
    "\n",
    "        # Compute output as weighted sum of value by the score\n",
    "        context_layer = attention_probs @ value_layer\n",
    "\n",
    "        # Isolate and concatenate the head outputs\n",
    "        context_layer = self.reverse_transpose_for_scores(context_layer)\n",
    "\n",
    "        # Get the output\n",
    "        outputs = (\n",
    "            (context_layer, attention_probs)\n",
    "            if self.output_attentions\n",
    "            else (context_layer,)\n",
    "        )\n",
    "        return outputs"
   ]
  },
  {
   "cell_type": "markdown",
   "metadata": {},
   "source": [
    "Let's test your implementation using simple text data! First, let's load the data.\n",
    "\n",
    "We use a small dataset in this homework for a shorter training time."
   ]
  },
  {
   "cell_type": "code",
   "execution_count": 6,
   "metadata": {},
   "outputs": [],
   "source": [
    "# ChatGPT generated text data about BERT\n",
    "text = text_exercise.get()\n",
    "sentences_df, vocab = data.to_sentence_df(text)"
   ]
  },
  {
   "cell_type": "markdown",
   "metadata": {},
   "source": [
    "Let's have a quick look at some of the samples in the dataset."
   ]
  },
  {
   "cell_type": "code",
   "execution_count": 7,
   "metadata": {},
   "outputs": [
    {
     "data": {
      "text/html": [
       "<div>\n",
       "<style scoped>\n",
       "    .dataframe tbody tr th:only-of-type {\n",
       "        vertical-align: middle;\n",
       "    }\n",
       "\n",
       "    .dataframe tbody tr th {\n",
       "        vertical-align: top;\n",
       "    }\n",
       "\n",
       "    .dataframe thead th {\n",
       "        text-align: right;\n",
       "    }\n",
       "</style>\n",
       "<table border=\"1\" class=\"dataframe\">\n",
       "  <thead>\n",
       "    <tr style=\"text-align: right;\">\n",
       "      <th></th>\n",
       "      <th>sequence</th>\n",
       "    </tr>\n",
       "  </thead>\n",
       "  <tbody>\n",
       "    <tr>\n",
       "      <th>0</th>\n",
       "      <td>transformers change how we deal with language</td>\n",
       "    </tr>\n",
       "    <tr>\n",
       "      <th>1</th>\n",
       "      <td>they help machines understand text</td>\n",
       "    </tr>\n",
       "    <tr>\n",
       "      <th>2</th>\n",
       "      <td>they read words and see patterns</td>\n",
       "    </tr>\n",
       "    <tr>\n",
       "      <th>3</th>\n",
       "      <td>patterns help them learn</td>\n",
       "    </tr>\n",
       "    <tr>\n",
       "      <th>4</th>\n",
       "      <td>learning like this was hard before</td>\n",
       "    </tr>\n",
       "  </tbody>\n",
       "</table>\n",
       "</div>"
      ],
      "text/plain": [
       "                                        sequence\n",
       "0  transformers change how we deal with language\n",
       "1             they help machines understand text\n",
       "2               they read words and see patterns\n",
       "3                       patterns help them learn\n",
       "4             learning like this was hard before"
      ]
     },
     "execution_count": 7,
     "metadata": {},
     "output_type": "execute_result"
    }
   ],
   "source": [
    "sentences_df.head(5)"
   ]
  },
  {
   "cell_type": "code",
   "execution_count": 8,
   "metadata": {},
   "outputs": [
    {
     "name": "stdout",
     "output_type": "stream",
     "text": [
      "Number of sentences: 97\n",
      "Avg. number of characters per sentence: 31.35\n"
     ]
    }
   ],
   "source": [
    "num_sentences = len(sentences_df)\n",
    "avg_sentence_len = np.array([len(seq) for seq in sentences_df.sequence]).mean()\n",
    "\n",
    "print(f\"Number of sentences: {num_sentences}\")\n",
    "print(f\"Avg. number of characters per sentence: {avg_sentence_len:.2f}\")"
   ]
  },
  {
   "cell_type": "markdown",
   "metadata": {},
   "source": [
    "We see that the dataset only consits of 97 small sentences, having an average character length of ~30. This is a very small dataset, and we expect our model to quickly overfit on it."
   ]
  },
  {
   "cell_type": "markdown",
   "metadata": {},
   "source": [
    "After loading the data, you can train your model. Here we train our model using masked token prediction.\n",
    "\n",
    "Hint: The final model accuracy should be higher than 0.9."
   ]
  },
  {
   "cell_type": "code",
   "execution_count": 9,
   "metadata": {},
   "outputs": [
    {
     "name": "stdout",
     "output_type": "stream",
     "text": [
      "Number of trainable model parameters: 64910\n",
      "Epoch: 020 loss = 4.326359\n",
      "Epoch: 040 loss = 3.669086\n",
      "Epoch: 060 loss = 3.072307\n",
      "Epoch: 080 loss = 2.610871\n",
      "Epoch: 100 loss = 2.207155\n",
      "Epoch: 120 loss = 1.794869\n",
      "Epoch: 140 loss = 1.403985\n",
      "Epoch: 160 loss = 1.057738\n",
      "Epoch: 180 loss = 0.776207\n",
      "Epoch: 200 loss = 0.534590\n",
      "Final model accuracy: 99.22%\n"
     ]
    }
   ],
   "source": [
    "text_max_len = 11\n",
    "\n",
    "text_config = SimpleNamespace(\n",
    "    vocab_size=len(vocab),\n",
    "    hidden_size=60,\n",
    "    max_position_embeddings=text_max_len,\n",
    "    type_vocab_size=1,\n",
    "    layer_norm_eps=1e-12,\n",
    "    hidden_dropout_prob=0.0,\n",
    "    attention_probs_dropout_prob=0.0,\n",
    "    num_attention_heads=1,\n",
    "    hidden_act=\"gelu\",\n",
    "    intermediate_size=160,\n",
    "    num_hidden_layers=1,\n",
    "    is_decoder=False,\n",
    "    output_attentions=True,\n",
    "    output_hidden_states=False,\n",
    "    pruned_heads={},\n",
    "    initializer_range=0.02,\n",
    "    device=\"cpu\",\n",
    ")\n",
    "\n",
    "# Toknise the sentences\n",
    "tokenizer = data.TextTokenizer(vocab)\n",
    "\n",
    "# Generate masked training data\n",
    "(input_ids, segment_ids, masked_lm_labels, labels_idx, labels, attention_masks) = data.generate_masked_data(sentences_df, tokenizer, k=1, max_len=text_max_len, noise_rate=0.4)\n",
    "\n",
    "# Initialise model and optimiser\n",
    "model = models.BertForMaskedLM(config=text_config, positional_embedding=PositionalEmbedding, attention=BertSelfAttention)\n",
    "optimizer = optim.AdamW(model.parameters(), lr=0.001)\n",
    "print(f\"Number of trainable model parameters: {models.number_of_model_parameters(model)}\")\n",
    "\n",
    "# Training loop\n",
    "for epoch in range(200):\n",
    "    optimizer.zero_grad()\n",
    "    loss, outputs, attentions = model(\n",
    "        input_ids=input_ids,\n",
    "        token_type_ids=segment_ids,\n",
    "        masked_lm_labels=masked_lm_labels,\n",
    "        attention_mask=attention_masks,\n",
    "    )\n",
    "    if (epoch + 1) % 20 == 0:\n",
    "        print(\"Epoch:\", \"%03d\" % (epoch + 1), \"loss =\", \"{:.6f}\".format(loss))\n",
    "    loss.backward()\n",
    "    optimizer.step()\n",
    "\n",
    "print(f\"Final model accuracy: {(100 * evaluation.masked_label_accuracy(labels, labels_idx, outputs.data)):.2f}%\")"
   ]
  },
  {
   "cell_type": "markdown",
   "metadata": {},
   "source": [
    "Nice, we can (over-)fit to ~100% training accuracy very quickly. This is to be expected given the small dataset size. Let's visualise what the model has learned by inspecting the attention weights for each sample."
   ]
  },
  {
   "cell_type": "markdown",
   "metadata": {},
   "source": [
    "### 1.3. Visualize Attention (1 pt)\n",
    "\n",
    "Here, you can visualize the self-attention. \n",
    "\n",
    "Question: Can you interpret the visualization of the self-attention?\n",
    "\n",
    "**Write down you answer here (1 pt):** The visualisation shows a heatmap of the attention weight matrix in the self-attention head in the hidden layer of the BERT model trained above. Each sample is associated with a $11 \\times 11$ matrix showing the relative importance of tokens within the sequence to each other. Specifically, the element $a_{uv}$ shows the importance of the $v$-th token to the $u$-th token, where darker colours signalise higher importance.\n",
    "\n",
    "Generally, the attention weight matrix is an insightful tool to understand which tokens are relevant for predicting the masked tokens and show the intricate natural language patterns learned for a specific task. Typically, one can see that the attention weights are concentrated on the diagonal (localised attention), which means that the model attends to the tokens in the same position in the input and output sequence with some global dependencies if a token has important information for the prediction of a masked token in a far-away position.\n",
    "\n",
    "However, inspecting the attention matrix from the above BERT model trained on the tiny corpus of less than 100 short sentences shows none of these typical behaviours. Instead, we observe signs of overfitting and data memorisation. Specifically, the attention weights are concentrated in one or a few columns for most samples. These overly sharp attention peaks signalise that the model is overly relying on specific tokens for its predictions. Instead of learning general patterns, it simply memorises the structure of the training data and the position of specific tokens in the training data. These findings align with the fact that we are dealing with a very small dataset that we quickly overfit to perfect training accuracy in 200 epochs."
   ]
  },
  {
   "cell_type": "code",
   "execution_count": 10,
   "metadata": {},
   "outputs": [
    {
     "data": {
      "application/vnd.jupyter.widget-view+json": {
       "model_id": "c3ef17d022f74855bdc8c6d312aec173",
       "version_major": 2,
       "version_minor": 0
      },
      "text/plain": [
       "interactive(children=(Dropdown(description='Sample:', options=(5, 8, 11, 13, 18, 24, 26, 29, 31, 35, 37, 38, 6…"
      ]
     },
     "execution_count": 10,
     "metadata": {},
     "output_type": "execute_result"
    }
   ],
   "source": [
    "visualize_attention, sample_id_selector = visualization.display_attantion(\n",
    "    attentions=attentions, input_ids=input_ids, tokenizer=tokenizer\n",
    ")\n",
    "widgets.interactive(visualize_attention, sample_id=sample_id_selector)"
   ]
  },
  {
   "cell_type": "markdown",
   "metadata": {},
   "source": [
    "### 1.4. Train on small Wikitext Dataset\n",
    "\n",
    "Here, you can **optionally** test your model on the smallest wikitext dataset. You should get an test accuracy around 0.4 after training 50 epochs.\n",
    "\n",
    "This part is only for you to test your code. You can choose to run it or not. It takes around 1 hour to train the model for 50 epochs on the smallest wikitext dataset with Google Colab."
   ]
  },
  {
   "cell_type": "code",
   "execution_count": 11,
   "metadata": {},
   "outputs": [],
   "source": [
    "# Don't train\n",
    "# text_exercise.train_wikitext(device, positional_embedding=PositionalEmbedding, attention=BertSelfAttention)"
   ]
  },
  {
   "cell_type": "markdown",
   "metadata": {},
   "source": [
    "## 2. Promoter detection (7 pts)"
   ]
  },
  {
   "cell_type": "markdown",
   "metadata": {},
   "source": [
    "In this section, we detect promoter in DNA sequence.\n",
    "\n",
    "A promoter is a region of DNA upstream of a gene where relevant proteins (such as RNA polymerase and transcription factors) bind to initiate transcription of that gene. Promoter detection is to identify if there are promoter regions in the given DNA sequence. We have covered this in the lecture. (If you are interested in the promoter, you can check this [link](https://www.genome.gov/genetics-glossary/Promoter) for more details.)\n",
    "\n",
    "Here, we use a transformer and a classifier. The transformer first embeds the DNA sequences into features, and then the classifier detects the promoter based on the features.\n",
    "\n",
    "The main difference between text and DNA sequence is how to tokenize the sequence. Thus, you need to implement a tokenizer for the DNA sequence."
   ]
  },
  {
   "cell_type": "markdown",
   "metadata": {},
   "source": [
    "### 2.1. DNA Tokenizer (1 pts)\n",
    "\n",
    "Here, you will implement the DNA tokenizer the same as in DNABERT. Please check this [paper](https://academic.oup.com/bioinformatics/article/37/15/2112/6128680) for implementation details. Also, you need to check the data type and shape for both input and output.\n",
    "\n",
    "---"
   ]
  },
  {
   "cell_type": "markdown",
   "metadata": {},
   "source": [
    "The `DNATokenizer` inherits from the `Tokenizer` class which already provides a lot of functionality for the tokenisation of DNA sequences. All we are left to implement is to split a single DNA sequence into a list of overlapping k-mers inside the `_parse_text` function. To implement, we iterate over the nucleotides in the DNA sequence and add the $k$-mer starting at the current position to the list of tokens.\n",
    "\n",
    "*Note, that in the paper the authors use a special `CLS` token as a the first token which is used to learn a general representation of the input sequence and is often used for downstream classification tasks that operate on the entire sequence. As we are building a `PromotorDetection` classifier later, this might an interesting extension to try out.*"
   ]
  },
  {
   "cell_type": "code",
   "execution_count": 12,
   "metadata": {},
   "outputs": [],
   "source": [
    "class DNATokenizer(data.Tokenizer):\n",
    "    def __init__(self, k, vocab, unknown=\"[UNK]\"):\n",
    "        \"\"\"\n",
    "        DNA tokenizer that splits a DNA sequence into k-mers. Inherits from\n",
    "        data.Tokenizer which implements functionality for mapping the parsed tokens\n",
    "        to indices and vice versa.\n",
    "        \"\"\"\n",
    "        super().__init__(vocab, unknown)\n",
    "        # Save parameters\n",
    "        self.k = k\n",
    "\n",
    "    def _parse_text(self, text):\n",
    "        \"\"\"\n",
    "        Parse a text into a list of tokens.\n",
    "\n",
    "        Args:\n",
    "            text (str): text to parse\n",
    "\n",
    "        Returns:\n",
    "            list[str]: list of k-mer token strings\n",
    "        \"\"\"\n",
    "        return [text[i : i+self.k] for i in range(len(text) - self.k+1)]"
   ]
  },
  {
   "cell_type": "markdown",
   "metadata": {},
   "source": [
    "### 2.2. Test BERT on DNA Sequence\n",
    "\n",
    "In this section, you will train BERT on DNA sequence to learn the embedding of DNA sequence. The code is provided below and you do not need to write anything.\n",
    "\n",
    "Hint: the final evaluation accuracy should be higher than 0.2."
   ]
  },
  {
   "cell_type": "code",
   "execution_count": 13,
   "metadata": {},
   "outputs": [
    {
     "name": "stdout",
     "output_type": "stream",
     "text": [
      "Number of trainable model parameters: 118869\n",
      "Epoch: 0010 train cost = 0.543193 eval cost = 0.545653\n",
      "Epoch: 0020 train cost = 0.516451 eval cost = 0.540904\n",
      "Epoch: 0030 train cost = 0.386697 eval cost = 0.428486\n",
      "Epoch: 0040 train cost = 0.211207 eval cost = 0.282158\n",
      "Epoch: 0050 train cost = 0.161247 eval cost = 0.332970\n",
      "Train Acc = 56.03% Eval Acc = 23.89%\n"
     ]
    }
   ],
   "source": [
    "# Initialise vocabulary\n",
    "kmer = 3\n",
    "mask_length = kmer\n",
    "VOCAB_3MER = [\"[PAD]\", \"[UNK]\", \"[CLS]\", \"[SEP]\", \"[MASK]\", \"AAA\", \"AAT\", \"AAC\", \"AAG\", \"ATA\", \"ATT\", \"ATC\", \"ATG\", \"ACA\", \"ACT\", \"ACC\", \"ACG\", \"AGA\", \"AGT\", \"AGC\", \"AGG\", \"TAA\", \"TAT\", \"TAC\", \"TAG\", \"TTA\", \"TTT\", \"TTC\", \"TTG\", \"TCA\", \"TCT\", \"TCC\", \"TCG\", \"TGA\", \"TGT\", \"TGC\", \"TGG\", \"CAA\", \"CAT\", \"CAC\", \"CAG\", \"CTA\", \"CTT\", \"CTC\", \"CTG\", \"CCA\", \"CCT\", \"CCC\", \"CCG\", \"CGA\", \"CGT\", \"CGC\", \"CGG\", \"GAA\", \"GAT\", \"GAC\", \"GAG\", \"GTA\", \"GTT\", \"GTC\", \"GTG\", \"GCA\", \"GCT\", \"GCC\", \"GCG\", \"GGA\", \"GGT\", \"GGC\", \"GGG\" ]\n",
    "\n",
    "# Load raw training data\n",
    "raw_training_data = data.load_csv(\"./data/train.csv\")\n",
    "raw_test_data = data.load_csv(\"./data/test.csv\")\n",
    "\n",
    "dna_max_len = 298\n",
    "batch_size = 128\n",
    "max_dna_mask = 100\n",
    "dataset_size = 1000\n",
    "num_layers = 3\n",
    "num_heads = 6\n",
    "dna_config = SimpleNamespace(\n",
    "        vocab_size=len(VOCAB_3MER),\n",
    "        hidden_size=60,\n",
    "        max_position_embeddings=dna_max_len,\n",
    "        type_vocab_size=1,\n",
    "        layer_norm_eps=1e-12,\n",
    "        hidden_dropout_prob=0.0,\n",
    "        attention_probs_dropout_prob=0.0,\n",
    "        num_attention_heads=num_heads,\n",
    "        hidden_act=\"gelu\",\n",
    "        intermediate_size=160,\n",
    "        num_hidden_layers=num_layers,\n",
    "        is_decoder=False,\n",
    "        output_attentions=True,\n",
    "        output_hidden_states=True,\n",
    "        pruned_heads = {},\n",
    "        initializer_range=0.02,\n",
    "        device=device\n",
    "    )\n",
    "\n",
    "# Initialise tokeniser and generate training/ validation data\n",
    "tokenizer = DNATokenizer(k=kmer, vocab=VOCAB_3MER)\n",
    "input_ids, segment_ids, masked_lm_labels, labels_idx, labels, attention_masks = data.generate_masked_data(raw_training_data, tokenizer, max_len=dna_max_len, max_mask=max_dna_mask, k=mask_length, mask_rate=0.05, max_size=dataset_size)\n",
    "test_input_ids, test_segment_ids, test_masked_lm_labels, test_labels_idx, test_labels, test_attention_masks = data.generate_masked_data(raw_test_data, tokenizer, max_len=dna_max_len, max_mask=max_dna_mask, k=mask_length, mask_rate=0.05, max_size=dataset_size)\n",
    "\n",
    "# Initialise model and optimiser\n",
    "model = models.BertForMaskedLM(config=dna_config, positional_embedding=PositionalEmbedding, attention=BertSelfAttention)\n",
    "model = model.to(device)\n",
    "optimizer = optim.AdamW(model.parameters(), lr=0.005)\n",
    "print(f\"Number of trainable model parameters: {models.number_of_model_parameters(model)}\")\n",
    "\n",
    "# Initialise training dataset and loader\n",
    "train_dataset = TensorDataset( input_ids, segment_ids, masked_lm_labels, labels_idx, labels, attention_masks)\n",
    "train_loader = DataLoader(train_dataset, batch_size=batch_size, shuffle=True)\n",
    "\n",
    "# Initialise training dataset and loader\n",
    "test_dataset = TensorDataset(\n",
    "    test_input_ids,\n",
    "    test_segment_ids,\n",
    "    test_masked_lm_labels,\n",
    "    test_labels_idx,\n",
    "    test_labels,\n",
    "    test_attention_masks,\n",
    ")\n",
    "test_loader = DataLoader(test_dataset, batch_size=batch_size, shuffle=False)\n",
    "\n",
    "# Train model\n",
    "for epoch in range(50):\n",
    "    # Training loop\n",
    "    total_train_loss = 0\n",
    "    model.train()\n",
    "    for (batch_input_ids, batch_segment_ids, batch_masked_lm_labels, _, _, batch_attention_mask,) in train_loader:\n",
    "        optimizer.zero_grad()\n",
    "        loss, outputs, hidden_states, _ = model(\n",
    "            input_ids=batch_input_ids.to(device),\n",
    "            token_type_ids=batch_segment_ids.to(device),\n",
    "            masked_lm_labels=batch_masked_lm_labels.to(device),\n",
    "            attention_mask=batch_attention_mask.to(device),\n",
    "        )\n",
    "        loss.backward()\n",
    "        optimizer.step()\n",
    "        total_train_loss += loss.item()\n",
    "    avg_train_loss = total_train_loss / len(train_loader)\n",
    "\n",
    "    # Evaluation loop\n",
    "    if (epoch + 1) % 10 == 0:\n",
    "        model.eval()\n",
    "        total_eval_loss = 0\n",
    "        for (batch_input_ids, batch_segment_ids, batch_masked_lm_labels, _, _, batch_attention_mask,) in test_loader:\n",
    "            with torch.no_grad():\n",
    "                loss, outputs, hidden_states, _ = model(\n",
    "                    input_ids=batch_input_ids.to(device),\n",
    "                    token_type_ids=batch_segment_ids.to(device),\n",
    "                    masked_lm_labels=batch_masked_lm_labels.to(device),\n",
    "                    attention_mask=batch_attention_mask.to(device),\n",
    "                )\n",
    "                if batch_attention_mask.sum() - torch.numel(batch_attention_mask) > 0:\n",
    "                    print(\"found patting\", batch_attention_mask.sum())\n",
    "                total_eval_loss += loss.item()\n",
    "        avg_eval_loss = total_eval_loss / len(test_loader)\n",
    "        print(\"Epoch:\", \"%04d\" % (epoch + 1), \n",
    "              \"train cost =\", \"{:.6f}\".format(avg_train_loss), \n",
    "              \"eval cost =\", \"{:.6f}\".format(avg_eval_loss))\n",
    "\n",
    "# Compute average training and evaluation accuracy\n",
    "average_train_acc, _ = evaluation.model_masked_label_accuracy(model, train_loader, device)\n",
    "average_test_acc, last_test_attention = evaluation.model_masked_label_accuracy(model, test_loader, device)\n",
    "print(\"Train Acc =\", \"{:.2f}%\".format(100 *average_train_acc), \"Eval Acc =\", \"{:.2f}%\".format(100 * average_test_acc))"
   ]
  },
  {
   "cell_type": "markdown",
   "metadata": {},
   "source": [
    "Nice, we are able to train to **>20%** evaluation accuracy. Note that I slightly had to increase the learning rate to **0.005** for faster convergance."
   ]
  },
  {
   "cell_type": "markdown",
   "metadata": {},
   "source": [
    "### 2.3. Visualize the Attentions (1 pt)\n",
    "\n",
    "Here, you can visualize the self-attention. \n",
    "\n",
    "Question: compare the visualization to Section 1.3, what can you find here? How do you explain it?\n",
    "\n",
    "**Write down you answer here (1 pt):** This time we are training on a significantly larger training dataset of DNA sequences with a larger model with **3** encoder blocks each consisting of **6** attention heads in the multi-headed self-attention. Further, we are considering larger context size of 298 tokens. Thus, for each DNA sequence sample we can visualise the attention weights of each of the 6 attention heads in each of the 3 encoder blocks. \n",
    "\n",
    "Inspecting the learned attention weights in all heads of the three encoder blocks shows clear capabilities of learning relevant and diverse relationships between the k-mers in the DNA sequences. Some heads focusing on few important tokens, some learn local dependencies between tokens indicated by the attention weights accumulating on the diagonal. Yet others heads learn global dependencies between tokens. In the context of DNA sequences such learned seem reasonable there might be a few important motifs in the DNA sequence and local and global dependencies between these motifs. Generally, the fact that the individual heads are learning diverse relationships between the tokens is a sign that the model is learning general patterns in the DNA sequences and is not overfitting to the training data."
   ]
  },
  {
   "cell_type": "code",
   "execution_count": 14,
   "metadata": {},
   "outputs": [
    {
     "data": {
      "application/vnd.jupyter.widget-view+json": {
       "model_id": "0fef5a24809e47fbb379c38be48a23e2",
       "version_major": 2,
       "version_minor": 0
      },
      "text/plain": [
       "HBox(children=(Dropdown(description='Sample:', options=(4, 13, 21, 25, 28, 30, 37, 38, 42, 45, 47, 50, 62, 77,…"
      ]
     },
     "metadata": {},
     "output_type": "display_data"
    },
    {
     "data": {
      "application/vnd.jupyter.widget-view+json": {
       "model_id": "cdc9dd3ef5f94326a61ebd76c49feb28",
       "version_major": 2,
       "version_minor": 0
      },
      "text/plain": [
       "Output()"
      ]
     },
     "metadata": {},
     "output_type": "display_data"
    }
   ],
   "source": [
    "visualize_attention, sample_id_selector, layer_selector, head_selector = \\\n",
    "    visualization.display_multi_attantion(\n",
    "        attentions=last_test_attention,\n",
    "        tokenizer=tokenizer,\n",
    "        input_ids=input_ids,\n",
    "        layers=range(1, num_layers + 1),\n",
    "        heads=range(1, num_heads + 1),\n",
    "    )\n",
    "ui = widgets.HBox([sample_id_selector, layer_selector, head_selector])\n",
    "out = widgets.interactive_output(\n",
    "    visualize_attention,\n",
    "    {\"sample_id\": sample_id_selector, \"layer\": layer_selector, \"head\": head_selector},\n",
    ")\n",
    "display(ui, out)"
   ]
  },
  {
   "cell_type": "markdown",
   "metadata": {},
   "source": [
    "### 2.4. Use your pretrained model for promoter detection (5 pts)"
   ]
  },
  {
   "cell_type": "markdown",
   "metadata": {},
   "source": [
    "You already have the embeddings for the DNA sequence. Now, you are going to build a classifier based on the DNA embeddings. The classifier is to perform promoter detection. Specifically, the DNA sequence will be classified into *'contains promoter'* or *'does not contain promoter'*.\n",
    "\n",
    "Hint: \n",
    "- We now want to annotate data (get the label for each sample), not predict masked data anymore!\n",
    "- You can reuse some parts of the code in the previous sections, e.g. dataloader and training pipeline in Section 2.2.\n",
    "- If you implement the previous section correctly (the Eval Acc > 0.2 in Section 2.2), you already have an pre-trained object named 'model' of class models.BertForMaskedLM. You can directly use it.\n",
    "- The evaluation accuracy of this task should be around 0.6.\n",
    "\n",
    "---"
   ]
  },
  {
   "cell_type": "markdown",
   "metadata": {},
   "source": [
    "We first define a new model `PromoterDetector` which is a binary classification head that is \"stacked\" on top of a pre-trained DNABERT model. The model assumes that the BERT model is pre-trained and all weights are frozen for faster training."
   ]
  },
  {
   "cell_type": "code",
   "execution_count": 15,
   "metadata": {},
   "outputs": [],
   "source": [
    "class PromoterDetector(nn.Module):\n",
    "    \"\"\"PromoterDetector classification head on top of DNA BERT.\"\"\"\n",
    "    def __init__(self, model):\n",
    "        \"\"\"\n",
    "        Classification head to stack on top of a pre-trained DNABERT model for\n",
    "        promoter detection. It assumes that all weights inside the pre-trained\n",
    "        model are frozen for faster fine-tuning.\n",
    "\n",
    "        Args:\n",
    "            model (nn.Module): A pre-trained encoder model\n",
    "        \"\"\"\n",
    "        super().__init__()\n",
    "\n",
    "        # Save parameters\n",
    "        self.model = model\n",
    "        self.hidden_size = model.config.hidden_size\n",
    "\n",
    "        # Initialise linear layer from class token\n",
    "        self.linear = nn.Linear(self.hidden_size, 1)\n",
    "\n",
    "    def forward(self, input_ids):\n",
    "        \"\"\"\n",
    "        Feed forward function of the classification head. Returns the logits of the classification\n",
    "        of each sequence in the batch. Assumes that the hidden states are returned by BERT model\n",
    "        as the second output. And that the last tensor in the hidden state list corresponds to the\n",
    "        hidden states in the last encoder block (i.e. the final output of the encoder) and that the\n",
    "        first token in the sequence is the class token.\n",
    "\n",
    "        Args:\n",
    "            input_ids (torch.Tensor): Input tensor of shape (batch_size, seq_len)\n",
    "\n",
    "        Returns:\n",
    "            torch.Tensor: Output tensor of shape (batch_size, )\n",
    "        \"\"\"\n",
    "\n",
    "        # Compute BERT output\n",
    "        _, hidden_states, _ = self.model(input_ids=input_ids)\n",
    "        \n",
    "        # Extract last hidden state\n",
    "        last_hidden_state = hidden_states[-1]\n",
    "\n",
    "        # Get the embedding as the average of the hidden states of the sequence\n",
    "        class_tokens = last_hidden_state.mean(dim=1)\n",
    "\n",
    "        # Get the classification logits\n",
    "        logits = self.linear(class_tokens)\n",
    "\n",
    "        return logits.squeeze()"
   ]
  },
  {
   "cell_type": "markdown",
   "metadata": {},
   "source": [
    "Next, we define new dataset classes and loaders which sample the tokenised input indices and sequence labels. We can use the utility function `data.generate_labeled_data` and PyTorch functions for this."
   ]
  },
  {
   "cell_type": "code",
   "execution_count": 16,
   "metadata": {},
   "outputs": [],
   "source": [
    "# Generate labelled training data\n",
    "train_input_ids, train_labels = data.generate_labeled_data(\n",
    "    raw_training_data,\n",
    "    tokenizer,\n",
    "    max_len=dna_max_len,\n",
    "    max_size=dataset_size,\n",
    ")\n",
    "\n",
    "# Generate labelled test data\n",
    "test_input_ids, test_labels = data.generate_labeled_data(\n",
    "    raw_test_data,\n",
    "    tokenizer,\n",
    "    max_len=dna_max_len,\n",
    "    max_size=dataset_size,\n",
    ")\n",
    "\n",
    "# Convert to PyTorch tensors\n",
    "train_dataset = TensorDataset(train_input_ids, train_labels)\n",
    "test_dataset = TensorDataset(test_input_ids, test_labels)\n",
    "\n",
    "# Create batched data loader\n",
    "train_loader = DataLoader(train_dataset, batch_size=batch_size, shuffle=True)\n",
    "test_loader = DataLoader(test_dataset, batch_size=batch_size, shuffle=False)"
   ]
  },
  {
   "cell_type": "markdown",
   "metadata": {},
   "source": [
    "Let's initialise the `PromotorDetector` from a the pre-trained DNABERT model with frozen weights."
   ]
  },
  {
   "cell_type": "code",
   "execution_count": 17,
   "metadata": {},
   "outputs": [
    {
     "name": "stdout",
     "output_type": "stream",
     "text": [
      "Number of model parameters: 118930\n",
      "Number of trainable model parameters: 61\n"
     ]
    }
   ],
   "source": [
    "# Freeze all BERT parameters\n",
    "for params in model.parameters():\n",
    "    params.requires_grad = False\n",
    "\n",
    "# Initialise the classifier\n",
    "clf = PromoterDetector(model).to(device)\n",
    "optimizer = optim.AdamW(clf.parameters(), lr=0.005)\n",
    "criterion = nn.BCEWithLogitsLoss()\n",
    "\n",
    "print(f\"Number of model parameters: {models.number_of_model_parameters(clf)}\")\n",
    "print(f\"Number of trainable model parameters: {sum([p.numel() for p in clf.parameters() if p.requires_grad])}\")"
   ]
  },
  {
   "cell_type": "markdown",
   "metadata": {},
   "source": [
    "We train the model for **50** epochs with a learning rate of **0.005** (*again, slightly increased compared to the original training code*) and print the training and validation loss and accuracy every other epoch."
   ]
  },
  {
   "cell_type": "code",
   "execution_count": 18,
   "metadata": {},
   "outputs": [
    {
     "name": "stdout",
     "output_type": "stream",
     "text": [
      "Epoch: 0010 train cost = 0.596014 eval cost = 0.664873\n",
      "Epoch: 0020 train cost = 0.565560 eval cost = 0.662068\n",
      "Epoch: 0030 train cost = 0.542503 eval cost = 0.657120\n",
      "Epoch: 0040 train cost = 0.526265 eval cost = 0.652701\n",
      "Epoch: 0050 train cost = 0.512201 eval cost = 0.647517\n"
     ]
    }
   ],
   "source": [
    "# Training loop\n",
    "for epoch in range(50):\n",
    "    total_train_loss = 0\n",
    "    model.train()\n",
    "    for (input_ids, labels) in train_loader:\n",
    "        # Zero gradients\n",
    "        optimizer.zero_grad()\n",
    "        \n",
    "        # Move data to device\n",
    "        input_ids = input_ids.to(device)\n",
    "        labels = labels.to(device).float()\n",
    "\n",
    "        # Forward pass\n",
    "        logits = clf(input_ids)\n",
    "        loss = criterion(logits.squeeze(), labels)\n",
    "\n",
    "        # Backward pass\n",
    "        loss.backward()\n",
    "        optimizer.step()\n",
    "        total_train_loss += loss.item()\n",
    "\n",
    "    avg_train_loss = total_train_loss / len(train_loader)\n",
    "\n",
    "    if (epoch + 1) % 10 == 0:\n",
    "        model.eval()\n",
    "        total_eval_loss = 0\n",
    "        for (input_ids, labels) in test_loader:\n",
    "            with torch.no_grad():\n",
    "                # Move data to device\n",
    "                input_ids = input_ids.to(device)\n",
    "                labels = labels.to(device).float()\n",
    "\n",
    "                # Forward pass and compute loss\n",
    "                logits = clf(input_ids)\n",
    "                loss = criterion(logits.squeeze(), labels)\n",
    "\n",
    "                total_eval_loss += loss.item()\n",
    "\n",
    "        avg_eval_loss = total_eval_loss / len(test_loader)\n",
    "        print(\n",
    "            \"Epoch:\",\n",
    "            \"%04d\" % (epoch + 1),\n",
    "            \"train cost =\",\n",
    "            \"{:.6f}\".format(avg_train_loss),\n",
    "            \"eval cost =\",\n",
    "            \"{:.6f}\".format(avg_eval_loss),\n",
    "        )"
   ]
  },
  {
   "cell_type": "markdown",
   "metadata": {},
   "source": [
    "Finally, we evaluate the model on the test set using accuracy score."
   ]
  },
  {
   "cell_type": "code",
   "execution_count": 19,
   "metadata": {},
   "outputs": [
    {
     "name": "stdout",
     "output_type": "stream",
     "text": [
      "Eval Acc = 62.50%\n"
     ]
    }
   ],
   "source": [
    "# Evaluate\n",
    "y_pred, y_true = [], []\n",
    "for (input_ids, labels) in test_loader:\n",
    "    with torch.no_grad():\n",
    "        # Move data to device\n",
    "        input_ids = input_ids.to(device)\n",
    "        labels = labels.to(device).float()\n",
    "\n",
    "        # Forward pass and compute loss\n",
    "        logits = clf(input_ids)\n",
    "        probs = F.sigmoid(logits.squeeze())\n",
    "        preds = torch.round(probs)\n",
    "\n",
    "        y_pred.extend(preds.tolist())\n",
    "        y_true.extend(labels.tolist())\n",
    "\n",
    "y_pred = torch.Tensor(y_pred)\n",
    "y_true = torch.Tensor(y_true)\n",
    "eval_acc = (y_pred == y_true).float().mean()\n",
    "\n",
    "print(\"Eval Acc =\", \"{:.2f}%\".format(100 * eval_acc))"
   ]
  },
  {
   "cell_type": "markdown",
   "metadata": {},
   "source": [
    "Nice, we are getting **~60%** training accuracy using our custom pre-trained DNA BERT model."
   ]
  },
  {
   "cell_type": "markdown",
   "metadata": {},
   "source": [
    "### 2.5. Additional question (1 pt)\n",
    "\n",
    "Now we change mask_length = 1 (already changed, you do not need to implement anything).\n",
    "Let's run the code below and check the accuracy.\n",
    "\n",
    "Question: What is the final masked token prediction accuracy? How do you explain this?\n",
    "\n",
    "**Write down you answer here (1 pt):**  The `mask_length` parameter controls the number of subsequent k-mers to mask in the input sequence. For `mask_length=1` we mask only one k-mer at a time. Because k-mers are constructed in an overlapping manner the masked language modelling that is performed by the DNA BERT encoder becomes a trivial task because the model has access to all masked nucleotides via the neighbouring k-mers. Thus, we expect the model to quickly be able to reach very high masked token prediction performance."
   ]
  },
  {
   "cell_type": "code",
   "execution_count": 20,
   "metadata": {},
   "outputs": [
    {
     "name": "stdout",
     "output_type": "stream",
     "text": [
      "Number of trainable model parameters: 118869\n",
      "Epoch: 0010 train cost = 0.186245 eval cost = 0.191261\n",
      "Epoch: 0020 train cost = 0.166695 eval cost = 0.182701\n",
      "Epoch: 0030 train cost = 0.080601 eval cost = 0.092271\n",
      "Epoch: 0040 train cost = 0.008401 eval cost = 0.021982\n",
      "Epoch: 0050 train cost = 0.001660 eval cost = 0.018483\n",
      "Train Acc = 99.61% Eval Acc = 93.02%\n"
     ]
    }
   ],
   "source": [
    "kmer = 3\n",
    "mask_length = 1\n",
    "\n",
    "dna_max_len = 298\n",
    "batch_size = 128\n",
    "max_dna_mask = 100\n",
    "dataset_size = 1000\n",
    "num_layers = 3\n",
    "num_heads = 6\n",
    "dna_config = SimpleNamespace(\n",
    "    vocab_size=len(VOCAB_3MER),\n",
    "    hidden_size=60,\n",
    "    max_position_embeddings=dna_max_len,\n",
    "    type_vocab_size=1,\n",
    "    layer_norm_eps=1e-12,\n",
    "    hidden_dropout_prob=0.0,\n",
    "    attention_probs_dropout_prob=0.0,\n",
    "    num_attention_heads=num_heads,\n",
    "    hidden_act=\"gelu\",\n",
    "    intermediate_size=160,\n",
    "    num_hidden_layers=num_layers,\n",
    "    is_decoder=False,\n",
    "    output_attentions=True,\n",
    "    output_hidden_states=True,\n",
    "    pruned_heads={},\n",
    "    initializer_range=0.02,\n",
    "    device=device,\n",
    ")\n",
    "\n",
    "tokenizer = DNATokenizer(k=3, vocab=VOCAB_3MER)\n",
    "input_ids, segment_ids, masked_lm_labels, labels_idx, labels, attention_masks = \\\n",
    "    data.generate_masked_data(\n",
    "        raw_training_data,\n",
    "        tokenizer,\n",
    "        max_len=dna_max_len,\n",
    "        max_mask=max_dna_mask,\n",
    "        k=mask_length,\n",
    "        mask_rate=0.05,\n",
    "        max_size=dataset_size,\n",
    "    )\n",
    "\n",
    "test_input_ids, test_segment_ids, test_masked_lm_labels, test_labels_idx, test_labels, test_attention_masks = \\\n",
    "    data.generate_masked_data(\n",
    "        raw_test_data,\n",
    "        tokenizer,\n",
    "        max_len=dna_max_len,\n",
    "        max_mask=max_dna_mask,\n",
    "        k=mask_length,\n",
    "        mask_rate=0.05,\n",
    "        max_size=dataset_size,\n",
    "    )\n",
    "\n",
    "# Initialise model and optimiser\n",
    "model = models.BertForMaskedLM(config=dna_config, positional_embedding=PositionalEmbedding, attention=BertSelfAttention,)\n",
    "model = model.to(device)\n",
    "optimizer = optim.AdamW(model.parameters(), lr=0.005)\n",
    "print(f\"Number of trainable model parameters: {models.number_of_model_parameters(model)}\")\n",
    "\n",
    "# Initialise training dataset and loader\n",
    "train_dataset = TensorDataset(input_ids, segment_ids, masked_lm_labels, labels_idx, labels, attention_masks)\n",
    "train_loader = DataLoader(train_dataset, batch_size=batch_size, shuffle=True)\n",
    "\n",
    "# Initialise testing dataset and loader\n",
    "test_dataset = TensorDataset(\n",
    "    test_input_ids,\n",
    "    test_segment_ids,\n",
    "    test_masked_lm_labels,\n",
    "    test_labels_idx,\n",
    "    test_labels,\n",
    "    test_attention_masks,\n",
    ")\n",
    "test_loader = DataLoader(test_dataset, batch_size=batch_size, shuffle=False)\n",
    "\n",
    "# Train model\n",
    "for epoch in range(50):\n",
    "    # Training loop\n",
    "    total_train_loss = 0\n",
    "    model.train()\n",
    "    for (batch_input_ids, batch_segment_ids, batch_masked_lm_labels, _, _, batch_attention_mask) in train_loader:\n",
    "        optimizer.zero_grad()\n",
    "        loss, outputs, hidden_states, _ = model(\n",
    "            input_ids=batch_input_ids.to(device),\n",
    "            token_type_ids=batch_segment_ids.to(device),\n",
    "            masked_lm_labels=batch_masked_lm_labels.to(device),\n",
    "            attention_mask=batch_attention_mask.to(device),\n",
    "        )\n",
    "        loss.backward()\n",
    "        optimizer.step()\n",
    "        total_train_loss += loss.item()\n",
    "    avg_train_loss = total_train_loss / len(train_loader)\n",
    "\n",
    "    # Evaluation loop\n",
    "    if (epoch + 1) % 10 == 0:\n",
    "        model.eval()\n",
    "        total_eval_loss = 0\n",
    "        for (batch_input_ids, batch_segment_ids, batch_masked_lm_labels, _, _, batch_attention_mask) in test_loader:\n",
    "            with torch.no_grad():\n",
    "                loss, outputs, hidden_states, _ = model(\n",
    "                    input_ids=batch_input_ids.to(device),\n",
    "                    token_type_ids=batch_segment_ids.to(device),\n",
    "                    masked_lm_labels=batch_masked_lm_labels.to(device),\n",
    "                    attention_mask=batch_attention_mask.to(device),\n",
    "                )\n",
    "                if batch_attention_mask.sum() - torch.numel(batch_attention_mask) > 0:\n",
    "                    print(\"found patting\", batch_attention_mask.sum())\n",
    "                total_eval_loss += loss.item()\n",
    "        avg_eval_loss = total_eval_loss / len(test_loader)\n",
    "        print(\"Epoch:\", \"%04d\" % (epoch + 1),\n",
    "              \"train cost =\", \"{:.6f}\".format(avg_train_loss),\n",
    "              \"eval cost =\", \"{:.6f}\".format(avg_eval_loss))\n",
    "\n",
    "# Print traininga and evaluation accuracy\n",
    "average_train_acc, _ = evaluation.model_masked_label_accuracy(model, train_loader, device)\n",
    "average_test_acc, last_test_attention = evaluation.model_masked_label_accuracy(model, test_loader, device)\n",
    "print(\"Train Acc =\", \"{:.2f}%\".format(100 * average_train_acc), \"Eval Acc =\", \"{:.2f}%\".format(100 * average_test_acc))"
   ]
  },
  {
   "cell_type": "markdown",
   "metadata": {},
   "source": [
    "Indeed, with the same training hyperparameters we are reaching a much higher training and evaluation accuracy because the task is much easier."
   ]
  },
  {
   "cell_type": "markdown",
   "metadata": {},
   "source": [
    "## 3. Using foundation model (5 pts)"
   ]
  },
  {
   "cell_type": "markdown",
   "metadata": {},
   "source": [
    "### 3.1. Introduction\n",
    "\n",
    "In this section, we aim to use a foundation model, DNABERT, to perform promoter detection.\n",
    "A foundation model is a model pretrained on large datasets. Foundation models serve as the foundational building blocks upon which various applications can be constructed.\n",
    "\n",
    "Here, we use DNABERT as the foundation model. We first apply it on DNA sequence to get the embedding. Then, we train a classifier on the embedding as in Section 2. Please follow this [link](https://github.com/Zhihan1996/DNABERT_2) to load the foundation model."
   ]
  },
  {
   "cell_type": "markdown",
   "metadata": {},
   "source": [
    "### 3.2. Implementation\n",
    "\n",
    "**Consider this situation:** You get a dataset about promoter detection, and you build your model to perform the task as in Section 2. However, the performance is not good since the model is not strong enough. Suddenly, you think we can use a large pre-trained model to embed DNA sequences. Then, you search online and find the pre-trained model [DNABERT](https://github.com/Zhihan1996/DNABERT_2). Now, you want to perform promoter detection using the pre-trained DNABERT.\n",
    "\n",
    "There is no coding framework in this section. Just make things work (get good test accuracy) using the pre-trained model!\n",
    "\n",
    "Hint: \n",
    "- We encourage you to create a **new environment** following the instructions of Section 3 in this [link](https://github.com/Zhihan1996/DNABERT_2). (When you face the error \"The model class you are passing has a config_class attribute that is not consistent with the config class you passed ...\", creating a new environment can save you.)\n",
    "- Section 4 in this [link](https://github.com/Zhihan1996/DNABERT_2) shows you how to load and use the pre-trained foundation model.\n",
    "\n",
    "---"
   ]
  },
  {
   "cell_type": "markdown",
   "metadata": {},
   "source": [
    "🚨 Switch to virtual environment for DNA Bert at this point!\n",
    "\n",
    "For the new environment we import the required packages. To load the pre-trained model we need the `transformers` package."
   ]
  },
  {
   "cell_type": "code",
   "execution_count": 1,
   "metadata": {},
   "outputs": [],
   "source": [
    "# Imports\n",
    "import os\n",
    "import tqdm\n",
    "import random\n",
    "import numpy as np\n",
    "import matplotlib.pyplot as plt\n",
    "import seaborn as sns\n",
    "from sklearn.manifold import TSNE\n",
    "from umap.umap_ import UMAP\n",
    "from sklearn.preprocessing import StandardScaler\n",
    "\n",
    "import torch\n",
    "import torch.nn as nn\n",
    "import torch.nn.functional as F\n",
    "import torch.optim as optim\n",
    "from torch.utils.data import DataLoader, TensorDataset\n",
    "from transformers import AutoTokenizer, AutoModel\n",
    "from utils import data\n",
    "\n",
    "import os\n",
    "os.environ[\"TOKENIZERS_PARALLELISM\"] = \"false\""
   ]
  },
  {
   "cell_type": "markdown",
   "metadata": {},
   "source": [
    "Again, we set some global parameters and seeds for reproducibility."
   ]
  },
  {
   "cell_type": "code",
   "execution_count": 2,
   "metadata": {},
   "outputs": [
    {
     "name": "stdout",
     "output_type": "stream",
     "text": [
      "Using device: mps\n"
     ]
    }
   ],
   "source": [
    "# Set seeds\n",
    "seed = 128\n",
    "torch.backends.cudnn.deterministic = True\n",
    "torch.backends.cudnn.benchmark = False\n",
    "random.seed(seed)\n",
    "np.random.seed(seed)\n",
    "torch.manual_seed(seed)\n",
    "torch.mps.manual_seed(seed)\n",
    "torch.cuda.manual_seed(seed)\n",
    "\n",
    "# Set style\n",
    "sns.set_style(\"darkgrid\")\n",
    "\n",
    "# Set device\n",
    "device = torch.device(\"cuda\" if torch.cuda.is_available() else \"mps\" if torch.backends.mps.is_built() else \"cpu\")\n",
    "print(f\"Using device: {device}\")"
   ]
  },
  {
   "cell_type": "markdown",
   "metadata": {},
   "source": [
    "We start by loading the tokeniser and pre-trained DNA Bert model that we will use to obtain the embeddings for each of the DNA sequences in the dataset from the `transformers` package. We first load the pre-trained model and tokenizer using the `AutoTokenizer` and `AutoModel` classes."
   ]
  },
  {
   "cell_type": "code",
   "execution_count": 3,
   "metadata": {},
   "outputs": [
    {
     "name": "stderr",
     "output_type": "stream",
     "text": [
      "/Users/jonas-mika/.cache/huggingface/modules/transformers_modules/zhihan1996/DNABERT-2-117M/1d020b803b871a976f5f3d5565f0eac8f2c7bb81/bert_layers.py:125: UserWarning: Unable to import Triton; defaulting MosaicBERT attention implementation to pytorch (this will reduce throughput when using this model).\n",
      "  warnings.warn(\n",
      "Some weights of the model checkpoint at zhihan1996/DNABERT-2-117M were not used when initializing BertModel: ['cls.predictions.decoder.weight', 'cls.predictions.transform.dense.bias', 'cls.predictions.transform.LayerNorm.weight', 'cls.predictions.decoder.bias', 'cls.predictions.transform.dense.weight', 'cls.predictions.transform.LayerNorm.bias']\n",
      "- This IS expected if you are initializing BertModel from the checkpoint of a model trained on another task or with another architecture (e.g. initializing a BertForSequenceClassification model from a BertForPreTraining model).\n",
      "- This IS NOT expected if you are initializing BertModel from the checkpoint of a model that you expect to be exactly identical (initializing a BertForSequenceClassification model from a BertForSequenceClassification model).\n",
      "Some weights of BertModel were not initialized from the model checkpoint at zhihan1996/DNABERT-2-117M and are newly initialized: ['bert.pooler.dense.weight', 'bert.pooler.dense.bias']\n",
      "You should probably TRAIN this model on a down-stream task to be able to use it for predictions and inference.\n"
     ]
    }
   ],
   "source": [
    "# ToDo: Load the pretrained DNABERT model and use this to get the embeddings of the train and test DNA sequences.\n",
    "# Load pre-trained DNABERT model and tokeniser\n",
    "pretrained_tokeniser = AutoTokenizer.from_pretrained(\"zhihan1996/DNABERT-2-117M\", trust_remote_code=True)\n",
    "pretrained_model= AutoModel.from_pretrained(\"zhihan1996/DNABERT-2-117M\", trust_remote_code=True)"
   ]
  },
  {
   "cell_type": "markdown",
   "metadata": {},
   "source": [
    "Let's familiarise ourselves with the API provided by the pre-trained `AutoTokenizer` and `AutoModel` class. We can pass a `str` into the `AutoTokenizer` to get the tokenised input indices and pass the tokenised input indices into the `AutoModel` to get the embeddings."
   ]
  },
  {
   "cell_type": "code",
   "execution_count": 4,
   "metadata": {},
   "outputs": [
    {
     "name": "stdout",
     "output_type": "stream",
     "text": [
      "input_ids: torch.Size([1, 17])\n",
      "hidden_states: torch.Size([1, 17, 768])\n",
      "embedding: torch.Size([768])\n"
     ]
    }
   ],
   "source": [
    "dna = \"ACGTAGCATCGGATCTATCTATCGACACTTGGTTATCGATCTACGAGCATCTCGTTAGC\"\n",
    "input_ids = pretrained_tokeniser(dna, return_tensors = 'pt')[\"input_ids\"] # (B, L)\n",
    "hidden_states, _ = pretrained_model(input_ids) # (B, L, H)\n",
    "\n",
    "# Compute sequence embedding using mean pooling\n",
    "embedding = torch.mean(hidden_states[0], dim=0)\n",
    "\n",
    "print(f\"input_ids: {input_ids.shape}\")\n",
    "print(f\"hidden_states: {hidden_states.shape}\")\n",
    "print(f\"embedding: {embedding.shape}\")"
   ]
  },
  {
   "cell_type": "markdown",
   "metadata": {},
   "source": [
    "Works as expected. Let's generate the labeled data using the `data.generate_labeled_data` function and use the same subset of 1.000 samples for training and evaluation. We will use the pretrained tokeniser to tokenise the input sequences."
   ]
  },
  {
   "cell_type": "code",
   "execution_count": 5,
   "metadata": {},
   "outputs": [],
   "source": [
    "# Load raw training and testing data\n",
    "raw_training_data = data.load_csv(\"./data/train.csv\")\n",
    "raw_test_data = data.load_csv(\"./data/test.csv\")\n",
    "\n",
    "# Set parameters for data generation\n",
    "dna_max_len = 298\n",
    "dataset_size = 1000\n",
    "batch_size = 128\n",
    "\n",
    "# Generate labeled training data\n",
    "train_input_ids, train_labels = data.generate_labeled_data(\n",
    "    raw_training_data,\n",
    "    tokenizer=pretrained_tokeniser,\n",
    "    max_len=dna_max_len,\n",
    "    max_size=dataset_size,\n",
    ")\n",
    "\n",
    "# Generate labeled test data\n",
    "test_input_ids, test_labels = data.generate_labeled_data(\n",
    "    raw_test_data,\n",
    "    tokenizer=pretrained_tokeniser,\n",
    "    max_len=dna_max_len,\n",
    "    max_size=dataset_size,\n",
    ")\n",
    "\n",
    "# Convert to PyTorch tensors\n",
    "train_dataset = TensorDataset(train_input_ids, train_labels)\n",
    "test_dataset = TensorDataset(test_input_ids, test_labels)\n",
    "\n",
    "# Create loaders for getting embedders without the kernel dying\n",
    "train_embed_loader = DataLoader(train_dataset, batch_size=1, shuffle=False)\n",
    "test_embed_loader = DataLoader(test_dataset, batch_size=1, shuffle=False)"
   ]
  },
  {
   "cell_type": "markdown",
   "metadata": {},
   "source": [
    "Now, we can use the pre-trained DNABERT model to get the embeddings of the train and test DNA sequences. "
   ]
  },
  {
   "cell_type": "code",
   "execution_count": 6,
   "metadata": {},
   "outputs": [
    {
     "name": "stdout",
     "output_type": "stream",
     "text": [
      "Loaded embeddings ✅.\n",
      "train_embeddings: torch.Size([1000, 768])\n",
      "test_embeddings: torch.Size([1000, 768])\n"
     ]
    }
   ],
   "source": [
    "def load_embeddings(path):\n",
    "    return torch.load(path)\n",
    "\n",
    "def save_embeddings(embeddings, path):\n",
    "    return torch.save(embeddings, path)\n",
    "\n",
    "def get_embeddings(model, loader, device):\n",
    "    embeddings = []\n",
    "    for input_ids, _ in tqdm.tqdm(loader):\n",
    "        hidden_states, _ = model(input_ids.to(device)) # (B, L, H)\n",
    "        embedding = torch.mean(hidden_states[0], dim=0)\n",
    "\n",
    "        embeddings.append(embedding.tolist()) # (B, H)\n",
    "\n",
    "    return torch.Tensor(embeddings)\n",
    "\n",
    "# Set paths for saving and loading embeddings\n",
    "data_path = os.path.join(os.getcwd(), \"data\")\n",
    "train_embeddings_path = os.path.join(data_path, \"sub_train_embeddings.pt\")\n",
    "test_embeddings_path = os.path.join(data_path, \"sub_test_embeddings.pt\")\n",
    "\n",
    "# Put model to device and in eval model\n",
    "pretrained_model = pretrained_model.to(device)\n",
    "pretrained_model.eval()\n",
    "\n",
    "# Compute and save embeddings if they do not exist\n",
    "if not os.path.exists(train_embeddings_path) and not os.path.exists(test_embeddings_path):\n",
    "    train_embeddings = get_embeddings(pretrained_model, train_embed_loader, device=device)\n",
    "    test_embeddings = get_embeddings(pretrained_model, test_embed_loader, device=device)\n",
    "\n",
    "    save_embeddings(train_embeddings, train_embeddings_path)\n",
    "    save_embeddings(test_embeddings, test_embeddings_path)\n",
    "\n",
    "# Load embeddings from disk\n",
    "train_embeddings = load_embeddings(train_embeddings_path)\n",
    "test_embeddings = load_embeddings(test_embeddings_path)\n",
    "\n",
    "print(\"Loaded embeddings ✅.\")\n",
    "print(f\"train_embeddings: {train_embeddings.shape}\")\n",
    "print(f\"test_embeddings: {test_embeddings.shape}\")"
   ]
  },
  {
   "cell_type": "markdown",
   "metadata": {},
   "source": [
    "We make new dataset classes and data loaders that will load the embeddings of the DNA sequences instead of the sequences themselves."
   ]
  },
  {
   "cell_type": "code",
   "execution_count": 7,
   "metadata": {},
   "outputs": [],
   "source": [
    "# Data classes\n",
    "batch_size = 128\n",
    "\n",
    "# Create PyTorch dataset from embeddings and labels\n",
    "train_labels = train_embed_loader.dataset.tensors[1].float()\n",
    "test_labels = test_embed_loader.dataset.tensors[1].float()\n",
    "\n",
    "train_dataset = TensorDataset(train_embeddings, train_labels)\n",
    "test_dataset = TensorDataset(test_embeddings, test_labels)\n",
    "\n",
    "# Create data loaders\n",
    "train_loader = DataLoader(train_dataset, batch_size=batch_size, shuffle=True)\n",
    "test_loader = DataLoader(test_dataset, batch_size=batch_size, shuffle=False)"
   ]
  },
  {
   "cell_type": "markdown",
   "metadata": {},
   "source": [
    "Let's visualise the embeddings using t-SNE and UMAP for the sequences and colour them by their label."
   ]
  },
  {
   "cell_type": "code",
   "execution_count": 8,
   "metadata": {},
   "outputs": [
    {
     "name": "stderr",
     "output_type": "stream",
     "text": [
      "OMP: Info #276: omp_set_nested routine deprecated, please use omp_set_max_active_levels instead.\n"
     ]
    },
    {
     "data": {
      "image/png": "[encoded data removed]",
      "text/plain": [
       "<Figure size 1000x500 with 2 Axes>"
      ]
     },
     "metadata": {},
     "output_type": "display_data"
    }
   ],
   "source": [
    "# Initialise t-SNE and UMAP\n",
    "tsne = TSNE(n_components=2)\n",
    "umap = UMAP(n_components=2)\n",
    "\n",
    "# Standardize embeddings for better visualisation\n",
    "scaler = StandardScaler()\n",
    "scaled_train_embeddings = scaler.fit_transform(train_embeddings)\n",
    "\n",
    "# Compute t-SNE and UMAP embeddings\n",
    "tsne_train_embeddings = tsne.fit_transform(scaled_train_embeddings)\n",
    "umap_train_embeddings = umap.fit_transform(scaled_train_embeddings)\n",
    "\n",
    "fig, axs = plt.subplots(ncols=2, figsize=(10, 5))\n",
    "sns.scatterplot(\n",
    "    x=tsne_train_embeddings[:, 0], \n",
    "    y=tsne_train_embeddings[:, 1],\n",
    "    hue=train_labels,\n",
    "    s=50,\n",
    "    ax=axs[0]\n",
    "    );\n",
    "\n",
    "sns.scatterplot(\n",
    "    x=umap_train_embeddings[:, 0], \n",
    "    y=umap_train_embeddings[:, 1],\n",
    "    hue=train_labels,\n",
    "    s=50,\n",
    "    ax=axs[1]\n",
    "    );\n",
    "\n",
    "axs[0].set_title(\"t-SNE of DNABERT embeddings\");\n",
    "axs[1].set_title(\"UMAP of DNABERT embeddings\");"
   ]
  },
  {
   "cell_type": "markdown",
   "metadata": {},
   "source": [
    "Nice, we see that the embeddings provided by DNA Bert are able to cluster the two classes of DNA sequences - even in only the first two components in t-SNE and UMAP projections. This is a good sign that the embeddings will be useful for the downstream task of promotor detection."
   ]
  },
  {
   "cell_type": "markdown",
   "metadata": {},
   "source": [
    "Next, we train another PromoterDetector model on the pre-trained embeddings. Unlike the `PromotorDetector` model from Section 2, we are not storing the encoder model inside the class but assume that we feed pre-trained embeddings for each DNA sequence directly into the model. Therefore, the new `PromoterDetector2` class is a regular feed-forward neural network with three hidden layers of dimension 512, 256 and 128 respectively, with ReLU activation functions and 0.1 dropout."
   ]
  },
  {
   "cell_type": "code",
   "execution_count": 9,
   "metadata": {},
   "outputs": [],
   "source": [
    "class PromoterDetector2(nn.Module):\n",
    "    \"\"\"Predicts the promoter sequence from the embedding of the sequence.\"\"\"\n",
    "\n",
    "    def __init__(self, \n",
    "                 hidden_dims = [512, 256, 128],\n",
    "                 activation = nn.ReLU(),\n",
    "                 dropout = 0.1):\n",
    "\n",
    "        super().__init__()\n",
    "\n",
    "        # Initialise linear layers\n",
    "        dims = [768] + hidden_dims + [1]\n",
    "        self.layers = nn.ModuleList([\n",
    "            nn.Linear(dims[i], dims[i+1]) for i in range(len(dims) - 1)\n",
    "        ])\n",
    "\n",
    "        # Initialise dropout and activation\n",
    "        self.dropout = nn.Dropout(dropout)\n",
    "        self.activation = activation\n",
    "\n",
    "    def forward(self, x):\n",
    "        \"\"\"\n",
    "        Feed forward function of the classification head. Returns the logits of the classification\n",
    "        of each sequence in the batch.\n",
    "\n",
    "        Args:\n",
    "            x (torch.Tensor): Tensor of sequence embeddings of shape (batch_size, embedding_size)\n",
    "        \n",
    "        Returns:\n",
    "            torch.Tensor: Output tensor of shape (batch_size, )\n",
    "        \"\"\"\n",
    "\n",
    "        for layer in self.layers[:-1]:\n",
    "            x = layer(x)\n",
    "            x = self.dropout(x)\n",
    "            x = self.activation(x)\n",
    "\n",
    "        x = self.layers[-1](x)\n",
    "\n",
    "        return x.squeeze()"
   ]
  },
  {
   "cell_type": "markdown",
   "metadata": {},
   "source": [
    "We  define our training dataset as the combination of the obtained training embeddings and labels (i.e. the DNA sequences and whether or not they contain a promotor region). Similarly, we define our testing data for the held-out test samples."
   ]
  },
  {
   "cell_type": "markdown",
   "metadata": {},
   "source": [
    "Next, we define the training loop. We are training for only 10 epochs here, to prevent heavy overfit. Additionally, we use dropout to prevent that our network memorises the training data. We use the AdamW optimizer with a learning rate of 0.002 for training and optimise under the standard binary cross entropy loss.  In each epoch we print the training and validation loss and accuracy.\n",
    "\n",
    "Finally, we evaluate the model on the test set using accuracy score."
   ]
  },
  {
   "cell_type": "code",
   "execution_count": 10,
   "metadata": {},
   "outputs": [
    {
     "name": "stdout",
     "output_type": "stream",
     "text": [
      "Epoch [1/10] | Train Loss 0.6294 | Eval Loss 0.7115\n",
      "Epoch [2/10] | Train Loss 0.5168 | Eval Loss 0.8141\n",
      "Epoch [3/10] | Train Loss 0.4075 | Eval Loss 0.8559\n",
      "Epoch [4/10] | Train Loss 0.3797 | Eval Loss 0.7469\n",
      "Epoch [5/10] | Train Loss 0.3679 | Eval Loss 0.7813\n",
      "Epoch [6/10] | Train Loss 0.3561 | Eval Loss 0.7707\n",
      "Epoch [7/10] | Train Loss 0.3426 | Eval Loss 0.7976\n",
      "Epoch [8/10] | Train Loss 0.3393 | Eval Loss 0.7537\n",
      "Epoch [9/10] | Train Loss 0.3344 | Eval Loss 0.8145\n",
      "Epoch [10/10] | Train Loss 0.3261 | Eval Loss 0.8159\n"
     ]
    }
   ],
   "source": [
    "# Training hyperparameters\n",
    "epochs = 10\n",
    "lr = 0.002\n",
    "\n",
    "# Initialise model and optimiser\n",
    "model = PromoterDetector2()\n",
    "model = model.to(device)\n",
    "optimiser = optim.AdamW(model.parameters(), lr=lr)\n",
    "criterion = nn.BCEWithLogitsLoss()\n",
    "\n",
    "for epoch in range(epochs):\n",
    "    model.train()\n",
    "    total_train_loss = 0.\n",
    "\n",
    "    for batch_embeddings, batch_labels in train_loader:\n",
    "        # Zero gradients\n",
    "        optimiser.zero_grad()\n",
    "\n",
    "        # Move data to device\n",
    "        batch_embeddings = batch_embeddings.to(device)\n",
    "        batch_labels = batch_labels.to(device)\n",
    "\n",
    "        # Forward pass\n",
    "        logits = model(batch_embeddings)\n",
    "        loss = criterion(logits, batch_labels)\n",
    "\n",
    "        # Backward pass\n",
    "        loss.backward()\n",
    "        optimiser.step()\n",
    "\n",
    "        total_train_loss += loss.item()\n",
    "\n",
    "    avg_train_loss = total_train_loss / len(train_loader)\n",
    "\n",
    "    if (epoch + 1) % 1 == 0:\n",
    "        model.eval()\n",
    "        total_eval_loss = 0.\n",
    "        for batch_embeddings, batch_labels in test_loader:\n",
    "            # Move data to device\n",
    "            batch_embeddings = batch_embeddings.to(device)\n",
    "            batch_labels = batch_labels.to(device)\n",
    "\n",
    "            # Forward pass\n",
    "            logits = model(batch_embeddings)\n",
    "            loss = criterion(logits, batch_labels)\n",
    "\n",
    "            total_eval_loss += loss.item()\n",
    "\n",
    "        avg_eval_loss = total_eval_loss / len(test_loader)\n",
    "\n",
    "        print(f\"Epoch [{epoch+1}/{epochs}] | Train Loss {avg_train_loss:.4f} | Eval Loss {avg_eval_loss:.4f}\")"
   ]
  },
  {
   "cell_type": "code",
   "execution_count": 11,
   "metadata": {},
   "outputs": [
    {
     "name": "stdout",
     "output_type": "stream",
     "text": [
      "Train Acc: 0.8462\n",
      "Test Acc: 0.9038\n"
     ]
    }
   ],
   "source": [
    "# Evaluate performance\n",
    "def validate(model, loader, device):\n",
    "    model.to(device)\n",
    "    y_true, y_pred = [], []\n",
    "    for batch_embeddings, batch_labels in loader:\n",
    "        # Move data to device\n",
    "        batch_embeddings = batch_embeddings.to(device)\n",
    "        batch_labels = batch_labels.to(device)\n",
    "\n",
    "        # Forward pass\n",
    "        logits = model(batch_embeddings)\n",
    "        probs = F.sigmoid(logits)\n",
    "        preds = torch.round(probs)\n",
    "\n",
    "        y_true.extend(batch_labels.tolist())\n",
    "        y_pred.extend(preds.tolist())\n",
    "\n",
    "    y_true = torch.Tensor(y_true)\n",
    "    y_pred = torch.Tensor(y_pred)\n",
    "\n",
    "    # Compute accuracy\n",
    "    acc = (preds == batch_labels).float().mean()\n",
    "\n",
    "    return {\n",
    "        \"acc\": acc\n",
    "    }\n",
    "\n",
    "train_results = validate(model, train_loader, device)\n",
    "test_results = validate(model, test_loader, device)\n",
    "\n",
    "print(f\"Train Acc: {train_results['acc']:.4f}\")\n",
    "print(f\"Test Acc: {test_results['acc']:.4f}\")"
   ]
  },
  {
   "cell_type": "markdown",
   "metadata": {},
   "source": [
    "We observe that even with a simple model and little training we are far surpassing the performance of the original `PromoterDetector` model using our custom pre-trained DNA Bert model. Using the frozen embeddings of the pre-trained DNA Bert model from the `transformers` package allows us to quickly reach high testing accuracy. This is an example of transfer learning where we use the knowledge learned from a pre-trained model to solve a different task."
   ]
  }
 ],
 "metadata": {
  "colab": {
   "provenance": []
  },
  "kernelspec": {
   "display_name": "Python 3 (ipykernel)",
   "language": "python",
   "name": "python3"
  },
  "language_info": {
   "codemirror_mode": {
    "name": "ipython",
    "version": 3
   },
   "file_extension": ".py",
   "mimetype": "text/x-python",
   "name": "python",
   "nbconvert_exporter": "python",
   "pygments_lexer": "ipython3",
   "version": "3.8.16"
  },
  "toc": {
   "colors": {
    "hover_highlight": "#DAA520",
    "navigate_num": "#000000",
    "navigate_text": "#333333",
    "running_highlight": "#FF0000",
    "selected_highlight": "#FFD700",
    "sidebar_border": "#EEEEEE",
    "wrapper_background": "#FFFFFF"
   },
   "moveMenuLeft": true,
   "nav_menu": {
    "height": "264px",
    "width": "252px"
   },
   "navigate_menu": true,
   "number_sections": true,
   "sideBar": true,
   "threshold": 4,
   "toc_cell": false,
   "toc_section_display": "block",
   "toc_window_display": false,
   "widenNotebook": false
  }
 },
 "nbformat": 4,
 "nbformat_minor": 0
}
